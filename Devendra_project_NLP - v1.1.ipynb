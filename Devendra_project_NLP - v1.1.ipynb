{
 "cells": [
  {
   "cell_type": "markdown",
   "metadata": {
    "id": "IshOqZNB6POh"
   },
   "source": [
    "# NLP Project: Airline sentiment analysis\n"
   ]
  },
  {
   "cell_type": "markdown",
   "metadata": {
    "id": "N4Eouxvz5Rb3"
   },
   "source": [
    "## **Context:**\n",
    "\n",
    "A sentiment analysis job about the problems of each major U.S. airline. Twitter data was scraped from \n",
    "February of 2015 and contributors were asked to first classify positive, negative, and neutral tweets, followed \n",
    "by categorizing negative reasons (such as \"late flight\" or \"rude service\")."
   ]
  },
  {
   "cell_type": "markdown",
   "metadata": {
    "id": "jaP-CPyF5Ndl"
   },
   "source": [
    "#### The purpose of this analysis is to make up a prediction model where we will be able to predict whether a recommendation is positive or negative or neutral. In this analysis, we will focus the positive/negative/neutral sentiment of the recommendation.\n",
    "\n"
   ]
  },
  {
   "cell_type": "code",
   "execution_count": 107,
   "metadata": {
    "colab": {
     "base_uri": "https://localhost:8080/"
    },
    "executionInfo": {
     "elapsed": 3456,
     "status": "ok",
     "timestamp": 1615548470005,
     "user": {
      "displayName": "Devendra AIML",
      "photoUrl": "https://lh3.googleusercontent.com/a-/AOh14GicVKKjyBT44aiJquujgsPF_1ie3gS1ek0kL5F9=s64",
      "userId": "02353457686168716095"
     },
     "user_tz": 0
    },
    "id": "ZjnXaaLV5Qff",
    "outputId": "83fec10a-9dba-4ff2-ec04-2ea54b1f7cfa"
   },
   "outputs": [
    {
     "name": "stdout",
     "output_type": "stream",
     "text": [
      "Requirement already satisfied: contractions in /usr/local/lib/python3.7/dist-packages (0.0.48)\n",
      "Requirement already satisfied: textsearch>=0.0.21 in /usr/local/lib/python3.7/dist-packages (from contractions) (0.0.21)\n",
      "Requirement already satisfied: anyascii in /usr/local/lib/python3.7/dist-packages (from textsearch>=0.0.21->contractions) (0.1.7)\n",
      "Requirement already satisfied: pyahocorasick in /usr/local/lib/python3.7/dist-packages (from textsearch>=0.0.21->contractions) (1.4.1)\n",
      "[nltk_data] Downloading package stopwords to /root/nltk_data...\n",
      "[nltk_data]   Package stopwords is already up-to-date!\n",
      "[nltk_data] Downloading package punkt to /root/nltk_data...\n",
      "[nltk_data]   Package punkt is already up-to-date!\n",
      "[nltk_data] Downloading package wordnet to /root/nltk_data...\n",
      "[nltk_data]   Package wordnet is already up-to-date!\n"
     ]
    }
   ],
   "source": [
    "# install and import necessary libraries.\n",
    "\n",
    "!pip install contractions\n",
    "\n",
    "import re, string, unicodedata                          # Import Regex, string and unicodedata.\n",
    "import contractions                                     # Import contractions library.\n",
    "from bs4 import BeautifulSoup                           # Import BeautifulSoup.\n",
    "\n",
    "import numpy as np                                      # Import numpy.\n",
    "import pandas as pd                                     # Import pandas.\n",
    "import nltk                                             # Import Natural Language Tool-Kit.\n",
    "\n",
    "nltk.download('stopwords')                              # Download Stopwords.\n",
    "nltk.download('punkt')\n",
    "nltk.download('wordnet')\n",
    "\n",
    "from nltk.corpus import stopwords                       # Import stopwords.\n",
    "from nltk.tokenize import word_tokenize, sent_tokenize  # Import Tokenizer.\n",
    "from nltk.stem.wordnet import WordNetLemmatizer         # Import Lemmatizer."
   ]
  },
  {
   "cell_type": "markdown",
   "metadata": {
    "id": "GSGEYFv-7mKS"
   },
   "source": []
  },
  {
   "cell_type": "code",
   "execution_count": 108,
   "metadata": {
    "colab": {
     "base_uri": "https://localhost:8080/"
    },
    "executionInfo": {
     "elapsed": 3447,
     "status": "ok",
     "timestamp": 1615548470006,
     "user": {
      "displayName": "Devendra AIML",
      "photoUrl": "https://lh3.googleusercontent.com/a-/AOh14GicVKKjyBT44aiJquujgsPF_1ie3gS1ek0kL5F9=s64",
      "userId": "02353457686168716095"
     },
     "user_tz": 0
    },
    "id": "gFZL0ja07oBM",
    "outputId": "9fd0211c-7c75-4eda-c449-239e0953621b"
   },
   "outputs": [
    {
     "name": "stdout",
     "output_type": "stream",
     "text": [
      "Drive already mounted at /content/drive; to attempt to forcibly remount, call drive.mount(\"/content/drive\", force_remount=True).\n"
     ]
    }
   ],
   "source": [
    "from google.colab import drive\n",
    "drive.mount('/content/drive')"
   ]
  },
  {
   "cell_type": "code",
   "execution_count": 109,
   "metadata": {
    "executionInfo": {
     "elapsed": 3443,
     "status": "ok",
     "timestamp": 1615548470007,
     "user": {
      "displayName": "Devendra AIML",
      "photoUrl": "https://lh3.googleusercontent.com/a-/AOh14GicVKKjyBT44aiJquujgsPF_1ie3gS1ek0kL5F9=s64",
      "userId": "02353457686168716095"
     },
     "user_tz": 0
    },
    "id": "iqIcJMJw7MAE"
   },
   "outputs": [],
   "source": [
    "# Loading data into pandas dataframe\n",
    "data = pd.read_csv(\"/content/drive/My Drive/Colab Notebooks/Tweets.csv\")"
   ]
  },
  {
   "cell_type": "code",
   "execution_count": 110,
   "metadata": {
    "colab": {
     "base_uri": "https://localhost:8080/"
    },
    "executionInfo": {
     "elapsed": 3437,
     "status": "ok",
     "timestamp": 1615548470007,
     "user": {
      "displayName": "Devendra AIML",
      "photoUrl": "https://lh3.googleusercontent.com/a-/AOh14GicVKKjyBT44aiJquujgsPF_1ie3gS1ek0kL5F9=s64",
      "userId": "02353457686168716095"
     },
     "user_tz": 0
    },
    "id": "OHklW7hTuUjH",
    "outputId": "02f8b100-189a-423c-b691-08d59a4985b2"
   },
   "outputs": [
    {
     "name": "stdout",
     "output_type": "stream",
     "text": [
      "<class 'pandas.core.frame.DataFrame'>\n",
      "RangeIndex: 14640 entries, 0 to 14639\n",
      "Data columns (total 15 columns):\n",
      " #   Column                        Non-Null Count  Dtype  \n",
      "---  ------                        --------------  -----  \n",
      " 0   tweet_id                      14640 non-null  int64  \n",
      " 1   airline_sentiment             14640 non-null  object \n",
      " 2   airline_sentiment_confidence  14640 non-null  float64\n",
      " 3   negativereason                9178 non-null   object \n",
      " 4   negativereason_confidence     10522 non-null  float64\n",
      " 5   airline                       14640 non-null  object \n",
      " 6   airline_sentiment_gold        40 non-null     object \n",
      " 7   name                          14640 non-null  object \n",
      " 8   negativereason_gold           32 non-null     object \n",
      " 9   retweet_count                 14640 non-null  int64  \n",
      " 10  text                          14640 non-null  object \n",
      " 11  tweet_coord                   1019 non-null   object \n",
      " 12  tweet_created                 14640 non-null  object \n",
      " 13  tweet_location                9907 non-null   object \n",
      " 14  user_timezone                 9820 non-null   object \n",
      "dtypes: float64(2), int64(2), object(11)\n",
      "memory usage: 1.7+ MB\n"
     ]
    }
   ],
   "source": [
    "data.info() #check data fields"
   ]
  },
  {
   "cell_type": "code",
   "execution_count": 111,
   "metadata": {
    "colab": {
     "base_uri": "https://localhost:8080/",
     "height": 294
    },
    "executionInfo": {
     "elapsed": 3989,
     "status": "ok",
     "timestamp": 1615548470567,
     "user": {
      "displayName": "Devendra AIML",
      "photoUrl": "https://lh3.googleusercontent.com/a-/AOh14GicVKKjyBT44aiJquujgsPF_1ie3gS1ek0kL5F9=s64",
      "userId": "02353457686168716095"
     },
     "user_tz": 0
    },
    "id": "JSAcyAGnbvoE",
    "outputId": "e6f391dd-a96b-4bd7-a14c-4feab66fe2b1"
   },
   "outputs": [
    {
     "data": {
      "text/html": [
       "<div>\n",
       "<style scoped>\n",
       "    .dataframe tbody tr th:only-of-type {\n",
       "        vertical-align: middle;\n",
       "    }\n",
       "\n",
       "    .dataframe tbody tr th {\n",
       "        vertical-align: top;\n",
       "    }\n",
       "\n",
       "    .dataframe thead th {\n",
       "        text-align: right;\n",
       "    }\n",
       "</style>\n",
       "<table border=\"1\" class=\"dataframe\">\n",
       "  <thead>\n",
       "    <tr style=\"text-align: right;\">\n",
       "      <th></th>\n",
       "      <th>tweet_id</th>\n",
       "      <th>airline_sentiment_confidence</th>\n",
       "      <th>negativereason_confidence</th>\n",
       "      <th>retweet_count</th>\n",
       "    </tr>\n",
       "  </thead>\n",
       "  <tbody>\n",
       "    <tr>\n",
       "      <th>count</th>\n",
       "      <td>1.464000e+04</td>\n",
       "      <td>14640.000000</td>\n",
       "      <td>10522.000000</td>\n",
       "      <td>14640.000000</td>\n",
       "    </tr>\n",
       "    <tr>\n",
       "      <th>mean</th>\n",
       "      <td>5.692184e+17</td>\n",
       "      <td>0.900169</td>\n",
       "      <td>0.638298</td>\n",
       "      <td>0.082650</td>\n",
       "    </tr>\n",
       "    <tr>\n",
       "      <th>std</th>\n",
       "      <td>7.791112e+14</td>\n",
       "      <td>0.162830</td>\n",
       "      <td>0.330440</td>\n",
       "      <td>0.745778</td>\n",
       "    </tr>\n",
       "    <tr>\n",
       "      <th>min</th>\n",
       "      <td>5.675883e+17</td>\n",
       "      <td>0.335000</td>\n",
       "      <td>0.000000</td>\n",
       "      <td>0.000000</td>\n",
       "    </tr>\n",
       "    <tr>\n",
       "      <th>25%</th>\n",
       "      <td>5.685592e+17</td>\n",
       "      <td>0.692300</td>\n",
       "      <td>0.360600</td>\n",
       "      <td>0.000000</td>\n",
       "    </tr>\n",
       "    <tr>\n",
       "      <th>50%</th>\n",
       "      <td>5.694779e+17</td>\n",
       "      <td>1.000000</td>\n",
       "      <td>0.670600</td>\n",
       "      <td>0.000000</td>\n",
       "    </tr>\n",
       "    <tr>\n",
       "      <th>75%</th>\n",
       "      <td>5.698905e+17</td>\n",
       "      <td>1.000000</td>\n",
       "      <td>1.000000</td>\n",
       "      <td>0.000000</td>\n",
       "    </tr>\n",
       "    <tr>\n",
       "      <th>max</th>\n",
       "      <td>5.703106e+17</td>\n",
       "      <td>1.000000</td>\n",
       "      <td>1.000000</td>\n",
       "      <td>44.000000</td>\n",
       "    </tr>\n",
       "  </tbody>\n",
       "</table>\n",
       "</div>"
      ],
      "text/plain": [
       "           tweet_id  ...  retweet_count\n",
       "count  1.464000e+04  ...   14640.000000\n",
       "mean   5.692184e+17  ...       0.082650\n",
       "std    7.791112e+14  ...       0.745778\n",
       "min    5.675883e+17  ...       0.000000\n",
       "25%    5.685592e+17  ...       0.000000\n",
       "50%    5.694779e+17  ...       0.000000\n",
       "75%    5.698905e+17  ...       0.000000\n",
       "max    5.703106e+17  ...      44.000000\n",
       "\n",
       "[8 rows x 4 columns]"
      ]
     },
     "execution_count": 111,
     "metadata": {
      "tags": []
     },
     "output_type": "execute_result"
    }
   ],
   "source": [
    "data.describe()"
   ]
  },
  {
   "cell_type": "markdown",
   "metadata": {
    "id": "PPt-sUbL5wCf"
   },
   "source": [
    "## Typical EDA numbers such as means and quartiles for numeric variables do not matter much for text based sentiment analysis, however it is still useful to check Describe output. Here we can see that negativereason_confidence may have missing values as the count is less than 14640. However we are not interested in this column itself, so the missing values won't matter there. But it is useful to know. For features of interest, we shall chack null values separately later on"
   ]
  },
  {
   "cell_type": "code",
   "execution_count": 112,
   "metadata": {
    "colab": {
     "base_uri": "https://localhost:8080/"
    },
    "executionInfo": {
     "elapsed": 3980,
     "status": "ok",
     "timestamp": 1615548470567,
     "user": {
      "displayName": "Devendra AIML",
      "photoUrl": "https://lh3.googleusercontent.com/a-/AOh14GicVKKjyBT44aiJquujgsPF_1ie3gS1ek0kL5F9=s64",
      "userId": "02353457686168716095"
     },
     "user_tz": 0
    },
    "id": "QAxBWyO29Qb6",
    "outputId": "063e7fa3-087d-4c55-d001-862f798bc3e7"
   },
   "outputs": [
    {
     "data": {
      "text/plain": [
       "(14640, 15)"
      ]
     },
     "execution_count": 112,
     "metadata": {
      "tags": []
     },
     "output_type": "execute_result"
    }
   ],
   "source": [
    "data.shape                                               # print shape of data."
   ]
  },
  {
   "cell_type": "code",
   "execution_count": 113,
   "metadata": {
    "colab": {
     "base_uri": "https://localhost:8080/",
     "height": 638
    },
    "executionInfo": {
     "elapsed": 3973,
     "status": "ok",
     "timestamp": 1615548470568,
     "user": {
      "displayName": "Devendra AIML",
      "photoUrl": "https://lh3.googleusercontent.com/a-/AOh14GicVKKjyBT44aiJquujgsPF_1ie3gS1ek0kL5F9=s64",
      "userId": "02353457686168716095"
     },
     "user_tz": 0
    },
    "id": "LAJWb__77ZNu",
    "outputId": "f1f09fa1-4501-4ead-84bd-773a2ceb57e5"
   },
   "outputs": [
    {
     "data": {
      "text/html": [
       "<div>\n",
       "<style scoped>\n",
       "    .dataframe tbody tr th:only-of-type {\n",
       "        vertical-align: middle;\n",
       "    }\n",
       "\n",
       "    .dataframe tbody tr th {\n",
       "        vertical-align: top;\n",
       "    }\n",
       "\n",
       "    .dataframe thead th {\n",
       "        text-align: right;\n",
       "    }\n",
       "</style>\n",
       "<table border=\"1\" class=\"dataframe\">\n",
       "  <thead>\n",
       "    <tr style=\"text-align: right;\">\n",
       "      <th></th>\n",
       "      <th>tweet_id</th>\n",
       "      <th>airline_sentiment</th>\n",
       "      <th>airline_sentiment_confidence</th>\n",
       "      <th>negativereason</th>\n",
       "      <th>negativereason_confidence</th>\n",
       "      <th>airline</th>\n",
       "      <th>airline_sentiment_gold</th>\n",
       "      <th>name</th>\n",
       "      <th>negativereason_gold</th>\n",
       "      <th>retweet_count</th>\n",
       "      <th>text</th>\n",
       "      <th>tweet_coord</th>\n",
       "      <th>tweet_created</th>\n",
       "      <th>tweet_location</th>\n",
       "      <th>user_timezone</th>\n",
       "    </tr>\n",
       "  </thead>\n",
       "  <tbody>\n",
       "    <tr>\n",
       "      <th>0</th>\n",
       "      <td>570306133677760513</td>\n",
       "      <td>neutral</td>\n",
       "      <td>1.0000</td>\n",
       "      <td>NaN</td>\n",
       "      <td>NaN</td>\n",
       "      <td>Virgin America</td>\n",
       "      <td>NaN</td>\n",
       "      <td>cairdin</td>\n",
       "      <td>NaN</td>\n",
       "      <td>0</td>\n",
       "      <td>@VirginAmerica What @dhepburn said.</td>\n",
       "      <td>NaN</td>\n",
       "      <td>2015-02-24 11:35:52 -0800</td>\n",
       "      <td>NaN</td>\n",
       "      <td>Eastern Time (US &amp; Canada)</td>\n",
       "    </tr>\n",
       "    <tr>\n",
       "      <th>1</th>\n",
       "      <td>570301130888122368</td>\n",
       "      <td>positive</td>\n",
       "      <td>0.3486</td>\n",
       "      <td>NaN</td>\n",
       "      <td>0.0000</td>\n",
       "      <td>Virgin America</td>\n",
       "      <td>NaN</td>\n",
       "      <td>jnardino</td>\n",
       "      <td>NaN</td>\n",
       "      <td>0</td>\n",
       "      <td>@VirginAmerica plus you've added commercials to the experience... tacky.</td>\n",
       "      <td>NaN</td>\n",
       "      <td>2015-02-24 11:15:59 -0800</td>\n",
       "      <td>NaN</td>\n",
       "      <td>Pacific Time (US &amp; Canada)</td>\n",
       "    </tr>\n",
       "    <tr>\n",
       "      <th>2</th>\n",
       "      <td>570301083672813571</td>\n",
       "      <td>neutral</td>\n",
       "      <td>0.6837</td>\n",
       "      <td>NaN</td>\n",
       "      <td>NaN</td>\n",
       "      <td>Virgin America</td>\n",
       "      <td>NaN</td>\n",
       "      <td>yvonnalynn</td>\n",
       "      <td>NaN</td>\n",
       "      <td>0</td>\n",
       "      <td>@VirginAmerica I didn't today... Must mean I need to take another trip!</td>\n",
       "      <td>NaN</td>\n",
       "      <td>2015-02-24 11:15:48 -0800</td>\n",
       "      <td>Lets Play</td>\n",
       "      <td>Central Time (US &amp; Canada)</td>\n",
       "    </tr>\n",
       "    <tr>\n",
       "      <th>3</th>\n",
       "      <td>570301031407624196</td>\n",
       "      <td>negative</td>\n",
       "      <td>1.0000</td>\n",
       "      <td>Bad Flight</td>\n",
       "      <td>0.7033</td>\n",
       "      <td>Virgin America</td>\n",
       "      <td>NaN</td>\n",
       "      <td>jnardino</td>\n",
       "      <td>NaN</td>\n",
       "      <td>0</td>\n",
       "      <td>@VirginAmerica it's really aggressive to blast obnoxious \"entertainment\" in your guests' faces &amp;amp; they have little recourse</td>\n",
       "      <td>NaN</td>\n",
       "      <td>2015-02-24 11:15:36 -0800</td>\n",
       "      <td>NaN</td>\n",
       "      <td>Pacific Time (US &amp; Canada)</td>\n",
       "    </tr>\n",
       "    <tr>\n",
       "      <th>4</th>\n",
       "      <td>570300817074462722</td>\n",
       "      <td>negative</td>\n",
       "      <td>1.0000</td>\n",
       "      <td>Can't Tell</td>\n",
       "      <td>1.0000</td>\n",
       "      <td>Virgin America</td>\n",
       "      <td>NaN</td>\n",
       "      <td>jnardino</td>\n",
       "      <td>NaN</td>\n",
       "      <td>0</td>\n",
       "      <td>@VirginAmerica and it's a really big bad thing about it</td>\n",
       "      <td>NaN</td>\n",
       "      <td>2015-02-24 11:14:45 -0800</td>\n",
       "      <td>NaN</td>\n",
       "      <td>Pacific Time (US &amp; Canada)</td>\n",
       "    </tr>\n",
       "  </tbody>\n",
       "</table>\n",
       "</div>"
      ],
      "text/plain": [
       "             tweet_id  ...               user_timezone\n",
       "0  570306133677760513  ...  Eastern Time (US & Canada)\n",
       "1  570301130888122368  ...  Pacific Time (US & Canada)\n",
       "2  570301083672813571  ...  Central Time (US & Canada)\n",
       "3  570301031407624196  ...  Pacific Time (US & Canada)\n",
       "4  570300817074462722  ...  Pacific Time (US & Canada)\n",
       "\n",
       "[5 rows x 15 columns]"
      ]
     },
     "execution_count": 113,
     "metadata": {
      "tags": []
     },
     "output_type": "execute_result"
    }
   ],
   "source": [
    "data.head()                                              # Print first 5 rows of data."
   ]
  },
  {
   "cell_type": "code",
   "execution_count": 114,
   "metadata": {
    "executionInfo": {
     "elapsed": 3968,
     "status": "ok",
     "timestamp": 1615548470568,
     "user": {
      "displayName": "Devendra AIML",
      "photoUrl": "https://lh3.googleusercontent.com/a-/AOh14GicVKKjyBT44aiJquujgsPF_1ie3gS1ek0kL5F9=s64",
      "userId": "02353457686168716095"
     },
     "user_tz": 0
    },
    "id": "4m_zUuoDzu1s"
   },
   "outputs": [],
   "source": [
    "# Only keeping airline sentiment and text columns from the data, as these are useful for our analysis.\n",
    "\n",
    "data = data.loc[:14639, ['airline_sentiment', 'text']]"
   ]
  },
  {
   "cell_type": "code",
   "execution_count": 115,
   "metadata": {
    "colab": {
     "base_uri": "https://localhost:8080/"
    },
    "executionInfo": {
     "elapsed": 3963,
     "status": "ok",
     "timestamp": 1615548470569,
     "user": {
      "displayName": "Devendra AIML",
      "photoUrl": "https://lh3.googleusercontent.com/a-/AOh14GicVKKjyBT44aiJquujgsPF_1ie3gS1ek0kL5F9=s64",
      "userId": "02353457686168716095"
     },
     "user_tz": 0
    },
    "id": "yc_taEyH5L7X",
    "outputId": "71e41b99-197e-45f2-b460-6db4bc1ec07c"
   },
   "outputs": [
    {
     "data": {
      "text/plain": [
       "(14640, 2)"
      ]
     },
     "execution_count": 115,
     "metadata": {
      "tags": []
     },
     "output_type": "execute_result"
    }
   ],
   "source": [
    "data.shape"
   ]
  },
  {
   "cell_type": "code",
   "execution_count": 116,
   "metadata": {
    "colab": {
     "base_uri": "https://localhost:8080/",
     "height": 202
    },
    "executionInfo": {
     "elapsed": 3955,
     "status": "ok",
     "timestamp": 1615548470569,
     "user": {
      "displayName": "Devendra AIML",
      "photoUrl": "https://lh3.googleusercontent.com/a-/AOh14GicVKKjyBT44aiJquujgsPF_1ie3gS1ek0kL5F9=s64",
      "userId": "02353457686168716095"
     },
     "user_tz": 0
    },
    "id": "uiMdfasu5OTE",
    "outputId": "821e6f18-2790-4f7f-f0ec-b0b1fe9907f7"
   },
   "outputs": [
    {
     "data": {
      "text/html": [
       "<div>\n",
       "<style scoped>\n",
       "    .dataframe tbody tr th:only-of-type {\n",
       "        vertical-align: middle;\n",
       "    }\n",
       "\n",
       "    .dataframe tbody tr th {\n",
       "        vertical-align: top;\n",
       "    }\n",
       "\n",
       "    .dataframe thead th {\n",
       "        text-align: right;\n",
       "    }\n",
       "</style>\n",
       "<table border=\"1\" class=\"dataframe\">\n",
       "  <thead>\n",
       "    <tr style=\"text-align: right;\">\n",
       "      <th></th>\n",
       "      <th>airline_sentiment</th>\n",
       "      <th>text</th>\n",
       "    </tr>\n",
       "  </thead>\n",
       "  <tbody>\n",
       "    <tr>\n",
       "      <th>0</th>\n",
       "      <td>neutral</td>\n",
       "      <td>@VirginAmerica What @dhepburn said.</td>\n",
       "    </tr>\n",
       "    <tr>\n",
       "      <th>1</th>\n",
       "      <td>positive</td>\n",
       "      <td>@VirginAmerica plus you've added commercials to the experience... tacky.</td>\n",
       "    </tr>\n",
       "    <tr>\n",
       "      <th>2</th>\n",
       "      <td>neutral</td>\n",
       "      <td>@VirginAmerica I didn't today... Must mean I need to take another trip!</td>\n",
       "    </tr>\n",
       "    <tr>\n",
       "      <th>3</th>\n",
       "      <td>negative</td>\n",
       "      <td>@VirginAmerica it's really aggressive to blast obnoxious \"entertainment\" in your guests' faces &amp;amp; they have little recourse</td>\n",
       "    </tr>\n",
       "    <tr>\n",
       "      <th>4</th>\n",
       "      <td>negative</td>\n",
       "      <td>@VirginAmerica and it's a really big bad thing about it</td>\n",
       "    </tr>\n",
       "  </tbody>\n",
       "</table>\n",
       "</div>"
      ],
      "text/plain": [
       "  airline_sentiment                                                                                                                            text\n",
       "0           neutral                                                                                             @VirginAmerica What @dhepburn said.\n",
       "1          positive                                                        @VirginAmerica plus you've added commercials to the experience... tacky.\n",
       "2           neutral                                                         @VirginAmerica I didn't today... Must mean I need to take another trip!\n",
       "3          negative  @VirginAmerica it's really aggressive to blast obnoxious \"entertainment\" in your guests' faces &amp; they have little recourse\n",
       "4          negative                                                                         @VirginAmerica and it's a really big bad thing about it"
      ]
     },
     "execution_count": 116,
     "metadata": {
      "tags": []
     },
     "output_type": "execute_result"
    }
   ],
   "source": [
    "data.head()"
   ]
  },
  {
   "cell_type": "code",
   "execution_count": 117,
   "metadata": {
    "colab": {
     "base_uri": "https://localhost:8080/",
     "height": 219
    },
    "executionInfo": {
     "elapsed": 3947,
     "status": "ok",
     "timestamp": 1615548470569,
     "user": {
      "displayName": "Devendra AIML",
      "photoUrl": "https://lh3.googleusercontent.com/a-/AOh14GicVKKjyBT44aiJquujgsPF_1ie3gS1ek0kL5F9=s64",
      "userId": "02353457686168716095"
     },
     "user_tz": 0
    },
    "id": "PAwpndtG5nVZ",
    "outputId": "db7407ed-a36d-48bb-e0e3-65c0e9586e90"
   },
   "outputs": [
    {
     "data": {
      "text/html": [
       "<div>\n",
       "<style scoped>\n",
       "    .dataframe tbody tr th:only-of-type {\n",
       "        vertical-align: middle;\n",
       "    }\n",
       "\n",
       "    .dataframe tbody tr th {\n",
       "        vertical-align: top;\n",
       "    }\n",
       "\n",
       "    .dataframe thead th {\n",
       "        text-align: right;\n",
       "    }\n",
       "</style>\n",
       "<table border=\"1\" class=\"dataframe\">\n",
       "  <thead>\n",
       "    <tr style=\"text-align: right;\">\n",
       "      <th></th>\n",
       "      <th>airline_sentiment</th>\n",
       "      <th>text</th>\n",
       "    </tr>\n",
       "  </thead>\n",
       "  <tbody>\n",
       "    <tr>\n",
       "      <th>14635</th>\n",
       "      <td>positive</td>\n",
       "      <td>@AmericanAir thank you we got on a different flight to Chicago.</td>\n",
       "    </tr>\n",
       "    <tr>\n",
       "      <th>14636</th>\n",
       "      <td>negative</td>\n",
       "      <td>@AmericanAir leaving over 20 minutes Late Flight. No warnings or communication until we were 15 minutes Late Flight. That's called shitty customer svc</td>\n",
       "    </tr>\n",
       "    <tr>\n",
       "      <th>14637</th>\n",
       "      <td>neutral</td>\n",
       "      <td>@AmericanAir Please bring American Airlines to #BlackBerry10</td>\n",
       "    </tr>\n",
       "    <tr>\n",
       "      <th>14638</th>\n",
       "      <td>negative</td>\n",
       "      <td>@AmericanAir you have my money, you change my flight, and don't answer your phones! Any other suggestions so I can make my commitment??</td>\n",
       "    </tr>\n",
       "    <tr>\n",
       "      <th>14639</th>\n",
       "      <td>neutral</td>\n",
       "      <td>@AmericanAir we have 8 ppl so we need 2 know how many seats are on the next flight. Plz put us on standby for 4 people on the next flight?</td>\n",
       "    </tr>\n",
       "  </tbody>\n",
       "</table>\n",
       "</div>"
      ],
      "text/plain": [
       "      airline_sentiment                                                                                                                                                    text\n",
       "14635          positive                                                                                         @AmericanAir thank you we got on a different flight to Chicago.\n",
       "14636          negative  @AmericanAir leaving over 20 minutes Late Flight. No warnings or communication until we were 15 minutes Late Flight. That's called shitty customer svc\n",
       "14637           neutral                                                                                            @AmericanAir Please bring American Airlines to #BlackBerry10\n",
       "14638          negative                 @AmericanAir you have my money, you change my flight, and don't answer your phones! Any other suggestions so I can make my commitment??\n",
       "14639           neutral              @AmericanAir we have 8 ppl so we need 2 know how many seats are on the next flight. Plz put us on standby for 4 people on the next flight?"
      ]
     },
     "execution_count": 117,
     "metadata": {
      "tags": []
     },
     "output_type": "execute_result"
    }
   ],
   "source": [
    "data.tail()"
   ]
  },
  {
   "cell_type": "code",
   "execution_count": 118,
   "metadata": {
    "colab": {
     "base_uri": "https://localhost:8080/"
    },
    "executionInfo": {
     "elapsed": 3940,
     "status": "ok",
     "timestamp": 1615548470570,
     "user": {
      "displayName": "Devendra AIML",
      "photoUrl": "https://lh3.googleusercontent.com/a-/AOh14GicVKKjyBT44aiJquujgsPF_1ie3gS1ek0kL5F9=s64",
      "userId": "02353457686168716095"
     },
     "user_tz": 0
    },
    "id": "-Fi1xVk_0g1v",
    "outputId": "fb6ab7a9-9af1-4571-8d46-c250d309c75a"
   },
   "outputs": [
    {
     "data": {
      "text/plain": [
       "airline_sentiment    0\n",
       "text                 0\n",
       "dtype: int64"
      ]
     },
     "execution_count": 118,
     "metadata": {
      "tags": []
     },
     "output_type": "execute_result"
    }
   ],
   "source": [
    "data.isnull().sum(axis=0)                                # Check for NULL values."
   ]
  },
  {
   "cell_type": "markdown",
   "metadata": {
    "id": "5YzT-yXKspXR"
   },
   "source": [
    "## It is important to check for null values and treat them if necessary, as they can impact classification. In our case we have no null values"
   ]
  },
  {
   "cell_type": "code",
   "execution_count": 119,
   "metadata": {
    "colab": {
     "base_uri": "https://localhost:8080/",
     "height": 202
    },
    "executionInfo": {
     "elapsed": 3932,
     "status": "ok",
     "timestamp": 1615548470570,
     "user": {
      "displayName": "Devendra AIML",
      "photoUrl": "https://lh3.googleusercontent.com/a-/AOh14GicVKKjyBT44aiJquujgsPF_1ie3gS1ek0kL5F9=s64",
      "userId": "02353457686168716095"
     },
     "user_tz": 0
    },
    "id": "YeIScfrX7sCd",
    "outputId": "40e794be-04ea-4820-dd94-639743bb2cf1"
   },
   "outputs": [
    {
     "data": {
      "text/html": [
       "<div>\n",
       "<style scoped>\n",
       "    .dataframe tbody tr th:only-of-type {\n",
       "        vertical-align: middle;\n",
       "    }\n",
       "\n",
       "    .dataframe tbody tr th {\n",
       "        vertical-align: top;\n",
       "    }\n",
       "\n",
       "    .dataframe thead th {\n",
       "        text-align: right;\n",
       "    }\n",
       "</style>\n",
       "<table border=\"1\" class=\"dataframe\">\n",
       "  <thead>\n",
       "    <tr style=\"text-align: right;\">\n",
       "      <th></th>\n",
       "      <th>airline_sentiment</th>\n",
       "      <th>text</th>\n",
       "    </tr>\n",
       "  </thead>\n",
       "  <tbody>\n",
       "    <tr>\n",
       "      <th>0</th>\n",
       "      <td>neutral</td>\n",
       "      <td>@VirginAmerica What @dhepburn said.</td>\n",
       "    </tr>\n",
       "    <tr>\n",
       "      <th>1</th>\n",
       "      <td>positive</td>\n",
       "      <td>@VirginAmerica plus you've added commercials to the experience... tacky.</td>\n",
       "    </tr>\n",
       "    <tr>\n",
       "      <th>2</th>\n",
       "      <td>neutral</td>\n",
       "      <td>@VirginAmerica I didn't today... Must mean I need to take another trip!</td>\n",
       "    </tr>\n",
       "    <tr>\n",
       "      <th>3</th>\n",
       "      <td>negative</td>\n",
       "      <td>@VirginAmerica it's really aggressive to blast obnoxious \"entertainment\" in your guests' faces &amp;amp; they have little recourse</td>\n",
       "    </tr>\n",
       "    <tr>\n",
       "      <th>4</th>\n",
       "      <td>negative</td>\n",
       "      <td>@VirginAmerica and it's a really big bad thing about it</td>\n",
       "    </tr>\n",
       "  </tbody>\n",
       "</table>\n",
       "</div>"
      ],
      "text/plain": [
       "  airline_sentiment                                                                                                                            text\n",
       "0           neutral                                                                                             @VirginAmerica What @dhepburn said.\n",
       "1          positive                                                        @VirginAmerica plus you've added commercials to the experience... tacky.\n",
       "2           neutral                                                         @VirginAmerica I didn't today... Must mean I need to take another trip!\n",
       "3          negative  @VirginAmerica it's really aggressive to blast obnoxious \"entertainment\" in your guests' faces &amp; they have little recourse\n",
       "4          negative                                                                         @VirginAmerica and it's a really big bad thing about it"
      ]
     },
     "execution_count": 119,
     "metadata": {
      "tags": []
     },
     "output_type": "execute_result"
    }
   ],
   "source": [
    "pd.set_option('display.max_colwidth', None) # Display full dataframe information (Non-turncated text column.)\n",
    "\n",
    "data.head()                                 # Check first 5 rows of data"
   ]
  },
  {
   "cell_type": "code",
   "execution_count": 120,
   "metadata": {
    "colab": {
     "base_uri": "https://localhost:8080/"
    },
    "executionInfo": {
     "elapsed": 3924,
     "status": "ok",
     "timestamp": 1615548470570,
     "user": {
      "displayName": "Devendra AIML",
      "photoUrl": "https://lh3.googleusercontent.com/a-/AOh14GicVKKjyBT44aiJquujgsPF_1ie3gS1ek0kL5F9=s64",
      "userId": "02353457686168716095"
     },
     "user_tz": 0
    },
    "id": "uzDIXO5hJUi0",
    "outputId": "04c4c449-5c39-496b-f148-a742677ba01d"
   },
   "outputs": [
    {
     "data": {
      "text/plain": [
       "negative    9178\n",
       "neutral     3099\n",
       "positive    2363\n",
       "Name: airline_sentiment, dtype: int64"
      ]
     },
     "execution_count": 120,
     "metadata": {
      "tags": []
     },
     "output_type": "execute_result"
    }
   ],
   "source": [
    "data[\"airline_sentiment\"].value_counts() #check distribution of target class"
   ]
  },
  {
   "cell_type": "markdown",
   "metadata": {
    "id": "lwW7_vXDuxyh"
   },
   "source": [
    "#Majority seem to be negative reviews. However other classes are also present in good numbers"
   ]
  },
  {
   "cell_type": "code",
   "execution_count": 121,
   "metadata": {
    "executionInfo": {
     "elapsed": 3920,
     "status": "ok",
     "timestamp": 1615548470571,
     "user": {
      "displayName": "Devendra AIML",
      "photoUrl": "https://lh3.googleusercontent.com/a-/AOh14GicVKKjyBT44aiJquujgsPF_1ie3gS1ek0kL5F9=s64",
      "userId": "02353457686168716095"
     },
     "user_tz": 0
    },
    "id": "TGyx1f5QJquP"
   },
   "outputs": [],
   "source": [
    "#convert target to integer\n",
    "replaceStruct = {\n",
    "                \n",
    "                 \"airline_sentiment\":     {\"negative\": 1, \"neutral\": 2 ,\"positive\": 3 }\n",
    "                 \n",
    "                    }"
   ]
  },
  {
   "cell_type": "code",
   "execution_count": 122,
   "metadata": {
    "colab": {
     "base_uri": "https://localhost:8080/"
    },
    "executionInfo": {
     "elapsed": 3915,
     "status": "ok",
     "timestamp": 1615548470571,
     "user": {
      "displayName": "Devendra AIML",
      "photoUrl": "https://lh3.googleusercontent.com/a-/AOh14GicVKKjyBT44aiJquujgsPF_1ie3gS1ek0kL5F9=s64",
      "userId": "02353457686168716095"
     },
     "user_tz": 0
    },
    "id": "-rcIy2VGKAkw",
    "outputId": "b3c910f1-b501-4fe0-ea64-a93a30812f2d"
   },
   "outputs": [
    {
     "name": "stdout",
     "output_type": "stream",
     "text": [
      "<class 'pandas.core.frame.DataFrame'>\n",
      "RangeIndex: 14640 entries, 0 to 14639\n",
      "Data columns (total 2 columns):\n",
      " #   Column             Non-Null Count  Dtype \n",
      "---  ------             --------------  ----- \n",
      " 0   airline_sentiment  14640 non-null  int64 \n",
      " 1   text               14640 non-null  object\n",
      "dtypes: int64(1), object(1)\n",
      "memory usage: 228.9+ KB\n"
     ]
    }
   ],
   "source": [
    "data = data.replace(replaceStruct)\n",
    "data.info() #confirm that the target is now integer"
   ]
  },
  {
   "cell_type": "code",
   "execution_count": 123,
   "metadata": {
    "colab": {
     "base_uri": "https://localhost:8080/"
    },
    "executionInfo": {
     "elapsed": 3907,
     "status": "ok",
     "timestamp": 1615548470571,
     "user": {
      "displayName": "Devendra AIML",
      "photoUrl": "https://lh3.googleusercontent.com/a-/AOh14GicVKKjyBT44aiJquujgsPF_1ie3gS1ek0kL5F9=s64",
      "userId": "02353457686168716095"
     },
     "user_tz": 0
    },
    "id": "BQlVFqTN9JIK",
    "outputId": "209eb2e7-55dc-4f72-e1b9-fc2a3e9aafe8"
   },
   "outputs": [
    {
     "data": {
      "text/plain": [
       "1    9178\n",
       "2    3099\n",
       "3    2363\n",
       "Name: airline_sentiment, dtype: int64"
      ]
     },
     "execution_count": 123,
     "metadata": {
      "tags": []
     },
     "output_type": "execute_result"
    }
   ],
   "source": [
    "data[\"airline_sentiment\"].value_counts() #confirm that the target distribution same after type change to integer"
   ]
  },
  {
   "cell_type": "markdown",
   "metadata": {
    "id": "377IfFic-Ihk"
   },
   "source": [
    "### Data Pre-processing:\n",
    "\n",
    "- Remove html tags.\n",
    "- Replace contractions in string. (e.g. replace I'm --> I am) and so on.\\\n",
    "- Remove numbers.\n",
    "- Tokenization\n",
    "- To remove Stopwords - this has not been explicitely asked in the project task. There is a debate about whether stopwords should be removed or not for sentiment analysis. Advantage is it reduces dimensions but disadvantage is they may have relevant sentiment info. For correctness I am running this tasks with both stopwords removed and stopwords not removed. I shall comapre the scores and provide commentary\n",
    "- Lemmatized data - preferring lemmatization over stemming as lemmatization is more accurate and given the data size is not that large, there are no performance implications\n",
    "\n",
    "We have used NLTK library to tokenize words , remove stopwords and lemmatize the remaining words."
   ]
  },
  {
   "cell_type": "code",
   "execution_count": 124,
   "metadata": {
    "colab": {
     "base_uri": "https://localhost:8080/",
     "height": 202
    },
    "executionInfo": {
     "elapsed": 4637,
     "status": "ok",
     "timestamp": 1615548471308,
     "user": {
      "displayName": "Devendra AIML",
      "photoUrl": "https://lh3.googleusercontent.com/a-/AOh14GicVKKjyBT44aiJquujgsPF_1ie3gS1ek0kL5F9=s64",
      "userId": "02353457686168716095"
     },
     "user_tz": 0
    },
    "id": "vf3kMpGN7Lp9",
    "outputId": "9c72e370-b439-4390-f43e-6717b338717d"
   },
   "outputs": [
    {
     "data": {
      "text/html": [
       "<div>\n",
       "<style scoped>\n",
       "    .dataframe tbody tr th:only-of-type {\n",
       "        vertical-align: middle;\n",
       "    }\n",
       "\n",
       "    .dataframe tbody tr th {\n",
       "        vertical-align: top;\n",
       "    }\n",
       "\n",
       "    .dataframe thead th {\n",
       "        text-align: right;\n",
       "    }\n",
       "</style>\n",
       "<table border=\"1\" class=\"dataframe\">\n",
       "  <thead>\n",
       "    <tr style=\"text-align: right;\">\n",
       "      <th></th>\n",
       "      <th>airline_sentiment</th>\n",
       "      <th>text</th>\n",
       "    </tr>\n",
       "  </thead>\n",
       "  <tbody>\n",
       "    <tr>\n",
       "      <th>0</th>\n",
       "      <td>2</td>\n",
       "      <td>@VirginAmerica What @dhepburn said.</td>\n",
       "    </tr>\n",
       "    <tr>\n",
       "      <th>1</th>\n",
       "      <td>3</td>\n",
       "      <td>@VirginAmerica plus you've added commercials to the experience... tacky.</td>\n",
       "    </tr>\n",
       "    <tr>\n",
       "      <th>2</th>\n",
       "      <td>2</td>\n",
       "      <td>@VirginAmerica I didn't today... Must mean I need to take another trip!</td>\n",
       "    </tr>\n",
       "    <tr>\n",
       "      <th>3</th>\n",
       "      <td>1</td>\n",
       "      <td>@VirginAmerica it's really aggressive to blast obnoxious \"entertainment\" in your guests' faces &amp; they have little recourse</td>\n",
       "    </tr>\n",
       "    <tr>\n",
       "      <th>4</th>\n",
       "      <td>1</td>\n",
       "      <td>@VirginAmerica and it's a really big bad thing about it</td>\n",
       "    </tr>\n",
       "  </tbody>\n",
       "</table>\n",
       "</div>"
      ],
      "text/plain": [
       "   airline_sentiment                                                                                                                        text\n",
       "0                  2                                                                                         @VirginAmerica What @dhepburn said.\n",
       "1                  3                                                    @VirginAmerica plus you've added commercials to the experience... tacky.\n",
       "2                  2                                                     @VirginAmerica I didn't today... Must mean I need to take another trip!\n",
       "3                  1  @VirginAmerica it's really aggressive to blast obnoxious \"entertainment\" in your guests' faces & they have little recourse\n",
       "4                  1                                                                     @VirginAmerica and it's a really big bad thing about it"
      ]
     },
     "execution_count": 124,
     "metadata": {
      "tags": []
     },
     "output_type": "execute_result"
    }
   ],
   "source": [
    "def strip_html(text):\n",
    "    soup = BeautifulSoup(text, \"html.parser\")\n",
    "    return soup.get_text()\n",
    "\n",
    "data['text'] = data['text'].apply(lambda x: strip_html(x))\n",
    "data.head()"
   ]
  },
  {
   "cell_type": "code",
   "execution_count": 125,
   "metadata": {
    "colab": {
     "base_uri": "https://localhost:8080/",
     "height": 202
    },
    "executionInfo": {
     "elapsed": 4971,
     "status": "ok",
     "timestamp": 1615548471650,
     "user": {
      "displayName": "Devendra AIML",
      "photoUrl": "https://lh3.googleusercontent.com/a-/AOh14GicVKKjyBT44aiJquujgsPF_1ie3gS1ek0kL5F9=s64",
      "userId": "02353457686168716095"
     },
     "user_tz": 0
    },
    "id": "f7NgnYq77Puy",
    "outputId": "69ff2e94-0e3a-4413-fbfe-247afc701c7e"
   },
   "outputs": [
    {
     "data": {
      "text/html": [
       "<div>\n",
       "<style scoped>\n",
       "    .dataframe tbody tr th:only-of-type {\n",
       "        vertical-align: middle;\n",
       "    }\n",
       "\n",
       "    .dataframe tbody tr th {\n",
       "        vertical-align: top;\n",
       "    }\n",
       "\n",
       "    .dataframe thead th {\n",
       "        text-align: right;\n",
       "    }\n",
       "</style>\n",
       "<table border=\"1\" class=\"dataframe\">\n",
       "  <thead>\n",
       "    <tr style=\"text-align: right;\">\n",
       "      <th></th>\n",
       "      <th>airline_sentiment</th>\n",
       "      <th>text</th>\n",
       "    </tr>\n",
       "  </thead>\n",
       "  <tbody>\n",
       "    <tr>\n",
       "      <th>0</th>\n",
       "      <td>2</td>\n",
       "      <td>@VirginAmerica What @dhepburn said.</td>\n",
       "    </tr>\n",
       "    <tr>\n",
       "      <th>1</th>\n",
       "      <td>3</td>\n",
       "      <td>@VirginAmerica plus you have added commercials to the experience... tacky.</td>\n",
       "    </tr>\n",
       "    <tr>\n",
       "      <th>2</th>\n",
       "      <td>2</td>\n",
       "      <td>@VirginAmerica I did not today... Must mean I need to take another trip!</td>\n",
       "    </tr>\n",
       "    <tr>\n",
       "      <th>3</th>\n",
       "      <td>1</td>\n",
       "      <td>@VirginAmerica it is really aggressive to blast obnoxious \"entertainment\" in your guests' faces &amp; they have little recourse</td>\n",
       "    </tr>\n",
       "    <tr>\n",
       "      <th>4</th>\n",
       "      <td>1</td>\n",
       "      <td>@VirginAmerica and it is a really big bad thing about it</td>\n",
       "    </tr>\n",
       "  </tbody>\n",
       "</table>\n",
       "</div>"
      ],
      "text/plain": [
       "   airline_sentiment                                                                                                                         text\n",
       "0                  2                                                                                          @VirginAmerica What @dhepburn said.\n",
       "1                  3                                                   @VirginAmerica plus you have added commercials to the experience... tacky.\n",
       "2                  2                                                     @VirginAmerica I did not today... Must mean I need to take another trip!\n",
       "3                  1  @VirginAmerica it is really aggressive to blast obnoxious \"entertainment\" in your guests' faces & they have little recourse\n",
       "4                  1                                                                     @VirginAmerica and it is a really big bad thing about it"
      ]
     },
     "execution_count": 125,
     "metadata": {
      "tags": []
     },
     "output_type": "execute_result"
    }
   ],
   "source": [
    "def replace_contractions(text):\n",
    "    \"\"\"Replace contractions in string of text\"\"\"\n",
    "    return contractions.fix(text)\n",
    "\n",
    "data['text'] = data['text'].apply(lambda x: replace_contractions(x))\n",
    "data.head()"
   ]
  },
  {
   "cell_type": "code",
   "execution_count": 126,
   "metadata": {
    "colab": {
     "base_uri": "https://localhost:8080/",
     "height": 202
    },
    "executionInfo": {
     "elapsed": 4964,
     "status": "ok",
     "timestamp": 1615548471651,
     "user": {
      "displayName": "Devendra AIML",
      "photoUrl": "https://lh3.googleusercontent.com/a-/AOh14GicVKKjyBT44aiJquujgsPF_1ie3gS1ek0kL5F9=s64",
      "userId": "02353457686168716095"
     },
     "user_tz": 0
    },
    "id": "ga8ArYYxAB_1",
    "outputId": "2182467b-f2ab-465e-9e6e-f68c24ce36c3"
   },
   "outputs": [
    {
     "data": {
      "text/html": [
       "<div>\n",
       "<style scoped>\n",
       "    .dataframe tbody tr th:only-of-type {\n",
       "        vertical-align: middle;\n",
       "    }\n",
       "\n",
       "    .dataframe tbody tr th {\n",
       "        vertical-align: top;\n",
       "    }\n",
       "\n",
       "    .dataframe thead th {\n",
       "        text-align: right;\n",
       "    }\n",
       "</style>\n",
       "<table border=\"1\" class=\"dataframe\">\n",
       "  <thead>\n",
       "    <tr style=\"text-align: right;\">\n",
       "      <th></th>\n",
       "      <th>airline_sentiment</th>\n",
       "      <th>text</th>\n",
       "    </tr>\n",
       "  </thead>\n",
       "  <tbody>\n",
       "    <tr>\n",
       "      <th>0</th>\n",
       "      <td>2</td>\n",
       "      <td>@VirginAmerica What @dhepburn said.</td>\n",
       "    </tr>\n",
       "    <tr>\n",
       "      <th>1</th>\n",
       "      <td>3</td>\n",
       "      <td>@VirginAmerica plus you have added commercials to the experience... tacky.</td>\n",
       "    </tr>\n",
       "    <tr>\n",
       "      <th>2</th>\n",
       "      <td>2</td>\n",
       "      <td>@VirginAmerica I did not today... Must mean I need to take another trip!</td>\n",
       "    </tr>\n",
       "    <tr>\n",
       "      <th>3</th>\n",
       "      <td>1</td>\n",
       "      <td>@VirginAmerica it is really aggressive to blast obnoxious \"entertainment\" in your guests' faces &amp; they have little recourse</td>\n",
       "    </tr>\n",
       "    <tr>\n",
       "      <th>4</th>\n",
       "      <td>1</td>\n",
       "      <td>@VirginAmerica and it is a really big bad thing about it</td>\n",
       "    </tr>\n",
       "  </tbody>\n",
       "</table>\n",
       "</div>"
      ],
      "text/plain": [
       "   airline_sentiment                                                                                                                         text\n",
       "0                  2                                                                                          @VirginAmerica What @dhepburn said.\n",
       "1                  3                                                   @VirginAmerica plus you have added commercials to the experience... tacky.\n",
       "2                  2                                                     @VirginAmerica I did not today... Must mean I need to take another trip!\n",
       "3                  1  @VirginAmerica it is really aggressive to blast obnoxious \"entertainment\" in your guests' faces & they have little recourse\n",
       "4                  1                                                                     @VirginAmerica and it is a really big bad thing about it"
      ]
     },
     "execution_count": 126,
     "metadata": {
      "tags": []
     },
     "output_type": "execute_result"
    }
   ],
   "source": [
    "def remove_numbers(text):\n",
    "  text = re.sub(r'\\d+', '', text)\n",
    "  return text\n",
    "\n",
    "data['text'] = data['text'].apply(lambda x: remove_numbers(x))\n",
    "data.head()"
   ]
  },
  {
   "cell_type": "code",
   "execution_count": 127,
   "metadata": {
    "executionInfo": {
     "elapsed": 9059,
     "status": "ok",
     "timestamp": 1615548475751,
     "user": {
      "displayName": "Devendra AIML",
      "photoUrl": "https://lh3.googleusercontent.com/a-/AOh14GicVKKjyBT44aiJquujgsPF_1ie3gS1ek0kL5F9=s64",
      "userId": "02353457686168716095"
     },
     "user_tz": 0
    },
    "id": "q0-yYsx68DxT"
   },
   "outputs": [],
   "source": [
    "data['text'] = data.apply(lambda row: nltk.word_tokenize(row['text']), axis=1) # Tokenization of data"
   ]
  },
  {
   "cell_type": "code",
   "execution_count": 128,
   "metadata": {
    "colab": {
     "base_uri": "https://localhost:8080/",
     "height": 202
    },
    "executionInfo": {
     "elapsed": 9055,
     "status": "ok",
     "timestamp": 1615548475753,
     "user": {
      "displayName": "Devendra AIML",
      "photoUrl": "https://lh3.googleusercontent.com/a-/AOh14GicVKKjyBT44aiJquujgsPF_1ie3gS1ek0kL5F9=s64",
      "userId": "02353457686168716095"
     },
     "user_tz": 0
    },
    "id": "EcHbJJFfAlM2",
    "outputId": "141d51f0-5ecd-4a93-e710-d0e501f398f9"
   },
   "outputs": [
    {
     "data": {
      "text/html": [
       "<div>\n",
       "<style scoped>\n",
       "    .dataframe tbody tr th:only-of-type {\n",
       "        vertical-align: middle;\n",
       "    }\n",
       "\n",
       "    .dataframe tbody tr th {\n",
       "        vertical-align: top;\n",
       "    }\n",
       "\n",
       "    .dataframe thead th {\n",
       "        text-align: right;\n",
       "    }\n",
       "</style>\n",
       "<table border=\"1\" class=\"dataframe\">\n",
       "  <thead>\n",
       "    <tr style=\"text-align: right;\">\n",
       "      <th></th>\n",
       "      <th>airline_sentiment</th>\n",
       "      <th>text</th>\n",
       "    </tr>\n",
       "  </thead>\n",
       "  <tbody>\n",
       "    <tr>\n",
       "      <th>0</th>\n",
       "      <td>2</td>\n",
       "      <td>[@, VirginAmerica, What, @, dhepburn, said, .]</td>\n",
       "    </tr>\n",
       "    <tr>\n",
       "      <th>1</th>\n",
       "      <td>3</td>\n",
       "      <td>[@, VirginAmerica, plus, you, have, added, commercials, to, the, experience, ..., tacky, .]</td>\n",
       "    </tr>\n",
       "    <tr>\n",
       "      <th>2</th>\n",
       "      <td>2</td>\n",
       "      <td>[@, VirginAmerica, I, did, not, today, ..., Must, mean, I, need, to, take, another, trip, !]</td>\n",
       "    </tr>\n",
       "    <tr>\n",
       "      <th>3</th>\n",
       "      <td>1</td>\n",
       "      <td>[@, VirginAmerica, it, is, really, aggressive, to, blast, obnoxious, ``, entertainment, '', in, your, guests, ', faces, &amp;, they, have, little, recourse]</td>\n",
       "    </tr>\n",
       "    <tr>\n",
       "      <th>4</th>\n",
       "      <td>1</td>\n",
       "      <td>[@, VirginAmerica, and, it, is, a, really, big, bad, thing, about, it]</td>\n",
       "    </tr>\n",
       "  </tbody>\n",
       "</table>\n",
       "</div>"
      ],
      "text/plain": [
       "   airline_sentiment                                                                                                                                                      text\n",
       "0                  2                                                                                                            [@, VirginAmerica, What, @, dhepburn, said, .]\n",
       "1                  3                                                               [@, VirginAmerica, plus, you, have, added, commercials, to, the, experience, ..., tacky, .]\n",
       "2                  2                                                              [@, VirginAmerica, I, did, not, today, ..., Must, mean, I, need, to, take, another, trip, !]\n",
       "3                  1  [@, VirginAmerica, it, is, really, aggressive, to, blast, obnoxious, ``, entertainment, '', in, your, guests, ', faces, &, they, have, little, recourse]\n",
       "4                  1                                                                                    [@, VirginAmerica, and, it, is, a, really, big, bad, thing, about, it]"
      ]
     },
     "execution_count": 128,
     "metadata": {
      "tags": []
     },
     "output_type": "execute_result"
    }
   ],
   "source": [
    "data.head()                                                                    # Look at how tokenized data looks."
   ]
  },
  {
   "cell_type": "code",
   "execution_count": 129,
   "metadata": {
    "executionInfo": {
     "elapsed": 9051,
     "status": "ok",
     "timestamp": 1615548475754,
     "user": {
      "displayName": "Devendra AIML",
      "photoUrl": "https://lh3.googleusercontent.com/a-/AOh14GicVKKjyBT44aiJquujgsPF_1ie3gS1ek0kL5F9=s64",
      "userId": "02353457686168716095"
     },
     "user_tz": 0
    },
    "id": "zWZwuXaC-4qy"
   },
   "outputs": [],
   "source": [
    "stopwords = stopwords.words('english')\n",
    "\n",
    "customlist = ['not', \"couldn't\", 'didn', \"didn't\", 'doesn', \"doesn't\", 'hadn', \"hadn't\", 'hasn',\n",
    "        \"hasn't\", 'haven', \"haven't\", 'isn', \"isn't\", 'ma', 'mightn', \"mightn't\", 'mustn',\n",
    "        \"mustn't\", 'needn', \"needn't\", 'shan', \"shan't\", 'shouldn', \"shouldn't\", 'wasn',\n",
    "        \"wasn't\", 'weren', \"weren't\", 'won', \"won't\", 'wouldn', \"wouldn't\"]\n",
    "\n",
    "# Set custom stop-word's list as not, couldn't etc. words matter in Sentiment, so not removing them from original data.\n",
    "\n",
    "stopwords = list(set(stopwords) - set(customlist))                              "
   ]
  },
  {
   "cell_type": "code",
   "execution_count": 130,
   "metadata": {
    "executionInfo": {
     "elapsed": 9047,
     "status": "ok",
     "timestamp": 1615548475754,
     "user": {
      "displayName": "Devendra AIML",
      "photoUrl": "https://lh3.googleusercontent.com/a-/AOh14GicVKKjyBT44aiJquujgsPF_1ie3gS1ek0kL5F9=s64",
      "userId": "02353457686168716095"
     },
     "user_tz": 0
    },
    "id": "JZjCxefg7Et3"
   },
   "outputs": [],
   "source": [
    "lemmatizer = WordNetLemmatizer()\n",
    "\n",
    "def remove_non_ascii(words):\n",
    "    \"\"\"Remove non-ASCII characters from list of tokenized words\"\"\"\n",
    "    new_words = []\n",
    "    for word in words:\n",
    "        new_word = unicodedata.normalize('NFKD', word).encode('ascii', 'ignore').decode('utf-8', 'ignore')\n",
    "        new_words.append(new_word)\n",
    "    return new_words\n",
    "\n",
    "def to_lowercase(words):\n",
    "    \"\"\"Convert all characters to lowercase from list of tokenized words\"\"\"\n",
    "    new_words = []\n",
    "    for word in words:\n",
    "        new_word = word.lower()\n",
    "        new_words.append(new_word)\n",
    "    return new_words\n",
    "\n",
    "def remove_punctuation(words):\n",
    "    \"\"\"Remove punctuation from list of tokenized words\"\"\"\n",
    "    new_words = []\n",
    "    for word in words:\n",
    "        new_word = re.sub(r'[^\\w\\s]', '', word)\n",
    "        if new_word != '':\n",
    "            new_words.append(new_word)\n",
    "    return new_words\n",
    "\n",
    "def remove_stopwords(words):\n",
    "    \"\"\"Remove stop words from list of tokenized words\"\"\"\n",
    "    new_words = []\n",
    "    for word in words:\n",
    "        if word not in stopwords:\n",
    "            new_words.append(word)\n",
    "    return new_words\n",
    "\n",
    "def lemmatize_list(words):\n",
    "    new_words = []\n",
    "    for word in words:\n",
    "      new_words.append(lemmatizer.lemmatize(word, pos='v'))\n",
    "    return new_words\n",
    "\n",
    "def normalize(words): #with stopward removal\n",
    "    words = remove_non_ascii(words)\n",
    "    words = to_lowercase(words)\n",
    "    words = remove_punctuation(words)\n",
    "    words = remove_stopwords(words)\n",
    "    words = lemmatize_list(words)\n",
    "    return ' '.join(words)\n",
    "\n",
    "def normalize2(words): #without stopword removal\n",
    "    words = remove_non_ascii(words)\n",
    "    words = to_lowercase(words)\n",
    "    words = remove_punctuation(words)\n",
    "    #words = remove_stopwords(words) \n",
    "    words = lemmatize_list(words)\n",
    "    return ' '.join(words)"
   ]
  },
  {
   "cell_type": "code",
   "execution_count": 131,
   "metadata": {
    "executionInfo": {
     "elapsed": 9043,
     "status": "ok",
     "timestamp": 1615548475755,
     "user": {
      "displayName": "Devendra AIML",
      "photoUrl": "https://lh3.googleusercontent.com/a-/AOh14GicVKKjyBT44aiJquujgsPF_1ie3gS1ek0kL5F9=s64",
      "userId": "02353457686168716095"
     },
     "user_tz": 0
    },
    "id": "N-A__5Xb9l-f"
   },
   "outputs": [],
   "source": [
    "#create an object to record scores so we can compare in end\n",
    "class scorerecord:\n",
    "    def __init__(self, mode, score):\n",
    "        self.mode = mode\n",
    "        self.score = score\n",
    "\n",
    "scorelist = []"
   ]
  },
  {
   "cell_type": "code",
   "execution_count": 132,
   "metadata": {
    "executionInfo": {
     "elapsed": 9041,
     "status": "ok",
     "timestamp": 1615548475756,
     "user": {
      "displayName": "Devendra AIML",
      "photoUrl": "https://lh3.googleusercontent.com/a-/AOh14GicVKKjyBT44aiJquujgsPF_1ie3gS1ek0kL5F9=s64",
      "userId": "02353457686168716095"
     },
     "user_tz": 0
    },
    "id": "IQLmFy5HPFf4"
   },
   "outputs": [],
   "source": [
    "#create another copy of data for running models without stopword removal\n",
    "data2 = data.copy()\n"
   ]
  },
  {
   "cell_type": "code",
   "execution_count": 133,
   "metadata": {
    "colab": {
     "base_uri": "https://localhost:8080/",
     "height": 202
    },
    "executionInfo": {
     "elapsed": 11301,
     "status": "ok",
     "timestamp": 1615548478022,
     "user": {
      "displayName": "Devendra AIML",
      "photoUrl": "https://lh3.googleusercontent.com/a-/AOh14GicVKKjyBT44aiJquujgsPF_1ie3gS1ek0kL5F9=s64",
      "userId": "02353457686168716095"
     },
     "user_tz": 0
    },
    "id": "5qx0ZLDeO7z8",
    "outputId": "689025d2-267d-4d4e-a2f2-9245cfeb4fa7"
   },
   "outputs": [
    {
     "data": {
      "text/html": [
       "<div>\n",
       "<style scoped>\n",
       "    .dataframe tbody tr th:only-of-type {\n",
       "        vertical-align: middle;\n",
       "    }\n",
       "\n",
       "    .dataframe tbody tr th {\n",
       "        vertical-align: top;\n",
       "    }\n",
       "\n",
       "    .dataframe thead th {\n",
       "        text-align: right;\n",
       "    }\n",
       "</style>\n",
       "<table border=\"1\" class=\"dataframe\">\n",
       "  <thead>\n",
       "    <tr style=\"text-align: right;\">\n",
       "      <th></th>\n",
       "      <th>airline_sentiment</th>\n",
       "      <th>text</th>\n",
       "    </tr>\n",
       "  </thead>\n",
       "  <tbody>\n",
       "    <tr>\n",
       "      <th>0</th>\n",
       "      <td>2</td>\n",
       "      <td>virginamerica dhepburn say</td>\n",
       "    </tr>\n",
       "    <tr>\n",
       "      <th>1</th>\n",
       "      <td>3</td>\n",
       "      <td>virginamerica plus add commercials experience tacky</td>\n",
       "    </tr>\n",
       "    <tr>\n",
       "      <th>2</th>\n",
       "      <td>2</td>\n",
       "      <td>virginamerica not today must mean need take another trip</td>\n",
       "    </tr>\n",
       "    <tr>\n",
       "      <th>3</th>\n",
       "      <td>1</td>\n",
       "      <td>virginamerica really aggressive blast obnoxious entertainment guests face little recourse</td>\n",
       "    </tr>\n",
       "    <tr>\n",
       "      <th>4</th>\n",
       "      <td>1</td>\n",
       "      <td>virginamerica really big bad thing</td>\n",
       "    </tr>\n",
       "  </tbody>\n",
       "</table>\n",
       "</div>"
      ],
      "text/plain": [
       "   airline_sentiment                                                                                       text\n",
       "0                  2                                                                 virginamerica dhepburn say\n",
       "1                  3                                        virginamerica plus add commercials experience tacky\n",
       "2                  2                                   virginamerica not today must mean need take another trip\n",
       "3                  1  virginamerica really aggressive blast obnoxious entertainment guests face little recourse\n",
       "4                  1                                                         virginamerica really big bad thing"
      ]
     },
     "execution_count": 133,
     "metadata": {
      "tags": []
     },
     "output_type": "execute_result"
    }
   ],
   "source": [
    "data['text'] = data.apply(lambda row: normalize(row['text']), axis=1) #pre-processed with stopwords removed\n",
    "data.head() #check 5 rows after pre-processing"
   ]
  },
  {
   "cell_type": "markdown",
   "metadata": {
    "id": "FoNMKCPAtogz"
   },
   "source": [
    "Notice how exclamation marks etc are gone and data is pure text"
   ]
  },
  {
   "cell_type": "code",
   "execution_count": 134,
   "metadata": {
    "colab": {
     "base_uri": "https://localhost:8080/",
     "height": 202
    },
    "executionInfo": {
     "elapsed": 13233,
     "status": "ok",
     "timestamp": 1615548479962,
     "user": {
      "displayName": "Devendra AIML",
      "photoUrl": "https://lh3.googleusercontent.com/a-/AOh14GicVKKjyBT44aiJquujgsPF_1ie3gS1ek0kL5F9=s64",
      "userId": "02353457686168716095"
     },
     "user_tz": 0
    },
    "id": "P5aRGiATP9vJ",
    "outputId": "d013d104-154c-408f-9bd2-f5e6029ab4c9"
   },
   "outputs": [
    {
     "data": {
      "text/html": [
       "<div>\n",
       "<style scoped>\n",
       "    .dataframe tbody tr th:only-of-type {\n",
       "        vertical-align: middle;\n",
       "    }\n",
       "\n",
       "    .dataframe tbody tr th {\n",
       "        vertical-align: top;\n",
       "    }\n",
       "\n",
       "    .dataframe thead th {\n",
       "        text-align: right;\n",
       "    }\n",
       "</style>\n",
       "<table border=\"1\" class=\"dataframe\">\n",
       "  <thead>\n",
       "    <tr style=\"text-align: right;\">\n",
       "      <th></th>\n",
       "      <th>airline_sentiment</th>\n",
       "      <th>text</th>\n",
       "    </tr>\n",
       "  </thead>\n",
       "  <tbody>\n",
       "    <tr>\n",
       "      <th>0</th>\n",
       "      <td>2</td>\n",
       "      <td>virginamerica what dhepburn say</td>\n",
       "    </tr>\n",
       "    <tr>\n",
       "      <th>1</th>\n",
       "      <td>3</td>\n",
       "      <td>virginamerica plus you have add commercials to the experience tacky</td>\n",
       "    </tr>\n",
       "    <tr>\n",
       "      <th>2</th>\n",
       "      <td>2</td>\n",
       "      <td>virginamerica i do not today must mean i need to take another trip</td>\n",
       "    </tr>\n",
       "    <tr>\n",
       "      <th>3</th>\n",
       "      <td>1</td>\n",
       "      <td>virginamerica it be really aggressive to blast obnoxious entertainment in your guests face they have little recourse</td>\n",
       "    </tr>\n",
       "    <tr>\n",
       "      <th>4</th>\n",
       "      <td>1</td>\n",
       "      <td>virginamerica and it be a really big bad thing about it</td>\n",
       "    </tr>\n",
       "  </tbody>\n",
       "</table>\n",
       "</div>"
      ],
      "text/plain": [
       "   airline_sentiment                                                                                                                  text\n",
       "0                  2                                                                                       virginamerica what dhepburn say\n",
       "1                  3                                                   virginamerica plus you have add commercials to the experience tacky\n",
       "2                  2                                                    virginamerica i do not today must mean i need to take another trip\n",
       "3                  1  virginamerica it be really aggressive to blast obnoxious entertainment in your guests face they have little recourse\n",
       "4                  1                                                               virginamerica and it be a really big bad thing about it"
      ]
     },
     "execution_count": 134,
     "metadata": {
      "tags": []
     },
     "output_type": "execute_result"
    }
   ],
   "source": [
    "data2['text'] = data2.apply(lambda row: normalize2(row['text']), axis=1) #pre-processed with stopwords not removed \n",
    "data2.head() #check 5 rows after pre-processing, notice the difference between earlier set and this one, with words like 'what' not removed"
   ]
  },
  {
   "cell_type": "markdown",
   "metadata": {
    "id": "bRc9Tt7KdFLH"
   },
   "source": [
    "## Vectorization with countvector and TFID\n",
    "\n",
    "Both the countvector (or bag of words) and TFID learn by calculating frequency of words. Countvector returns integers whereas TFID\n",
    "returns floats. The main difference is that the countvector just goes by number of occurences without caring whether the word is \"too common\"\n",
    "and present across many documents (because if that is the case it is not really a sentiment influencing word). In nutshell countvector\n",
    "assumes each word to be independent in each document. TFID addresses this limitation by checking for occurences of the word in all documents\n",
    "and normalizases the score using log function. The logarithmic function takes care of substantially reducing or even zero-ing weight of very\n",
    "common words occuring everywhere. Normally we may expect more sophisticated TFID vectorization to give better accuracy \n",
    "but we cannot be sure of it and we must test the results.\n"
   ]
  },
  {
   "cell_type": "code",
   "execution_count": 135,
   "metadata": {
    "executionInfo": {
     "elapsed": 13770,
     "status": "ok",
     "timestamp": 1615548480504,
     "user": {
      "displayName": "Devendra AIML",
      "photoUrl": "https://lh3.googleusercontent.com/a-/AOh14GicVKKjyBT44aiJquujgsPF_1ie3gS1ek0kL5F9=s64",
      "userId": "02353457686168716095"
     },
     "user_tz": 0
    },
    "id": "9JqH_4JWOurH"
   },
   "outputs": [],
   "source": [
    "# Vectorization (Convert text data to numbers).\n",
    "from sklearn.feature_extraction.text import CountVectorizer\n",
    "\n",
    "vectorizer = CountVectorizer(max_features=2000)                # Keep only 2000 features as number of features will increase the processing time.\n",
    "data_features = vectorizer.fit_transform(data['text'])\n",
    "\n",
    "data_features2 = vectorizer.fit_transform(data2['text'])\n",
    "#print(data_features)\n"
   ]
  },
  {
   "cell_type": "code",
   "execution_count": 136,
   "metadata": {
    "executionInfo": {
     "elapsed": 13767,
     "status": "ok",
     "timestamp": 1615548480505,
     "user": {
      "displayName": "Devendra AIML",
      "photoUrl": "https://lh3.googleusercontent.com/a-/AOh14GicVKKjyBT44aiJquujgsPF_1ie3gS1ek0kL5F9=s64",
      "userId": "02353457686168716095"
     },
     "user_tz": 0
    },
    "id": "6cuTmrdZLrGG"
   },
   "outputs": [],
   "source": [
    "data_features = data_features.toarray()                        # Convert the data features to array."
   ]
  },
  {
   "cell_type": "code",
   "execution_count": 137,
   "metadata": {
    "colab": {
     "base_uri": "https://localhost:8080/"
    },
    "executionInfo": {
     "elapsed": 13762,
     "status": "ok",
     "timestamp": 1615548480505,
     "user": {
      "displayName": "Devendra AIML",
      "photoUrl": "https://lh3.googleusercontent.com/a-/AOh14GicVKKjyBT44aiJquujgsPF_1ie3gS1ek0kL5F9=s64",
      "userId": "02353457686168716095"
     },
     "user_tz": 0
    },
    "id": "R-xSq6Y-YN3f",
    "outputId": "efa94f39-c615-414f-f929-054592b53747"
   },
   "outputs": [
    {
     "data": {
      "text/plain": [
       "(14640, 2000)"
      ]
     },
     "execution_count": 137,
     "metadata": {
      "tags": []
     },
     "output_type": "execute_result"
    }
   ],
   "source": [
    "data_features.shape"
   ]
  },
  {
   "cell_type": "code",
   "execution_count": 138,
   "metadata": {
    "colab": {
     "base_uri": "https://localhost:8080/"
    },
    "executionInfo": {
     "elapsed": 13754,
     "status": "ok",
     "timestamp": 1615548480506,
     "user": {
      "displayName": "Devendra AIML",
      "photoUrl": "https://lh3.googleusercontent.com/a-/AOh14GicVKKjyBT44aiJquujgsPF_1ie3gS1ek0kL5F9=s64",
      "userId": "02353457686168716095"
     },
     "user_tz": 0
    },
    "id": "lS07CgAvQafT",
    "outputId": "f623fed3-c985-42be-e1e2-20610e620428"
   },
   "outputs": [
    {
     "data": {
      "text/plain": [
       "(14640, 2000)"
      ]
     },
     "execution_count": 138,
     "metadata": {
      "tags": []
     },
     "output_type": "execute_result"
    }
   ],
   "source": [
    "data_features2 = data_features2.toarray()  #version with stopwords not removed\n",
    "data_features2.shape"
   ]
  },
  {
   "cell_type": "code",
   "execution_count": 139,
   "metadata": {
    "executionInfo": {
     "elapsed": 13746,
     "status": "ok",
     "timestamp": 1615548480506,
     "user": {
      "displayName": "Devendra AIML",
      "photoUrl": "https://lh3.googleusercontent.com/a-/AOh14GicVKKjyBT44aiJquujgsPF_1ie3gS1ek0kL5F9=s64",
      "userId": "02353457686168716095"
     },
     "user_tz": 0
    },
    "id": "rt_rjzW51fx8"
   },
   "outputs": [],
   "source": [
    "labels = data['airline_sentiment']\n",
    "#labels = labels.astype('int'), target variable is already int\n"
   ]
  },
  {
   "cell_type": "code",
   "execution_count": 140,
   "metadata": {
    "colab": {
     "base_uri": "https://localhost:8080/"
    },
    "executionInfo": {
     "elapsed": 13737,
     "status": "ok",
     "timestamp": 1615548480507,
     "user": {
      "displayName": "Devendra AIML",
      "photoUrl": "https://lh3.googleusercontent.com/a-/AOh14GicVKKjyBT44aiJquujgsPF_1ie3gS1ek0kL5F9=s64",
      "userId": "02353457686168716095"
     },
     "user_tz": 0
    },
    "id": "eQVbFQEIlMfn",
    "outputId": "2346dbe9-16b8-4379-b8a9-6a1096cea7b6"
   },
   "outputs": [
    {
     "name": "stdout",
     "output_type": "stream",
     "text": [
      "<class 'pandas.core.frame.DataFrame'>\n",
      "RangeIndex: 14640 entries, 0 to 14639\n",
      "Data columns (total 2 columns):\n",
      " #   Column             Non-Null Count  Dtype \n",
      "---  ------             --------------  ----- \n",
      " 0   airline_sentiment  14640 non-null  int64 \n",
      " 1   text               14640 non-null  object\n",
      "dtypes: int64(1), object(1)\n",
      "memory usage: 228.9+ KB\n"
     ]
    }
   ],
   "source": [
    "data.info()\n"
   ]
  },
  {
   "cell_type": "code",
   "execution_count": 141,
   "metadata": {
    "executionInfo": {
     "elapsed": 14503,
     "status": "ok",
     "timestamp": 1615548481280,
     "user": {
      "displayName": "Devendra AIML",
      "photoUrl": "https://lh3.googleusercontent.com/a-/AOh14GicVKKjyBT44aiJquujgsPF_1ie3gS1ek0kL5F9=s64",
      "userId": "02353457686168716095"
     },
     "user_tz": 0
    },
    "id": "nuBWTlx_ZlRo"
   },
   "outputs": [],
   "source": [
    "# Split data into training and testing set.\n",
    "\n",
    "from sklearn.model_selection import train_test_split\n",
    "\n",
    "X_train, X_test, y_train, y_test = train_test_split(data_features, labels, test_size=0.3, random_state=42)\n",
    "X_train2, X_test2, y_train2, y_test2 = train_test_split(data_features2, labels, test_size=0.3, random_state=42)\n"
   ]
  },
  {
   "cell_type": "code",
   "execution_count": 142,
   "metadata": {
    "colab": {
     "base_uri": "https://localhost:8080/"
    },
    "executionInfo": {
     "elapsed": 14498,
     "status": "ok",
     "timestamp": 1615548481283,
     "user": {
      "displayName": "Devendra AIML",
      "photoUrl": "https://lh3.googleusercontent.com/a-/AOh14GicVKKjyBT44aiJquujgsPF_1ie3gS1ek0kL5F9=s64",
      "userId": "02353457686168716095"
     },
     "user_tz": 0
    },
    "id": "FdwcqK9coeGg",
    "outputId": "81c85d6f-9bdc-4c26-d70e-d76c8c5d7ffd"
   },
   "outputs": [
    {
     "name": "stdout",
     "output_type": "stream",
     "text": [
      "(array([1, 2, 3]), array([2814,  884,  694]))\n",
      "(array([1, 2, 3]), array([2814,  884,  694]))\n"
     ]
    }
   ],
   "source": [
    "print(np.unique(y_test, return_counts=True))\n",
    "print(np.unique(y_test2, return_counts=True))"
   ]
  },
  {
   "cell_type": "code",
   "execution_count": 143,
   "metadata": {
    "colab": {
     "base_uri": "https://localhost:8080/"
    },
    "executionInfo": {
     "elapsed": 54532,
     "status": "ok",
     "timestamp": 1615548521325,
     "user": {
      "displayName": "Devendra AIML",
      "photoUrl": "https://lh3.googleusercontent.com/a-/AOh14GicVKKjyBT44aiJquujgsPF_1ie3gS1ek0kL5F9=s64",
      "userId": "02353457686168716095"
     },
     "user_tz": 0
    },
    "id": "LrRKfuzXXyPS",
    "outputId": "52cb158d-b4ef-4259-a78e-c75f36bfc050"
   },
   "outputs": [
    {
     "name": "stdout",
     "output_type": "stream",
     "text": [
      "RandomForestClassifier(bootstrap=True, ccp_alpha=0.0, class_weight=None,\n",
      "                       criterion='gini', max_depth=None, max_features='auto',\n",
      "                       max_leaf_nodes=None, max_samples=None,\n",
      "                       min_impurity_decrease=0.0, min_impurity_split=None,\n",
      "                       min_samples_leaf=1, min_samples_split=2,\n",
      "                       min_weight_fraction_leaf=0.0, n_estimators=10, n_jobs=4,\n",
      "                       oob_score=False, random_state=42, verbose=0,\n",
      "                       warm_start=False)\n",
      "0.7178961748633881\n"
     ]
    }
   ],
   "source": [
    "# Using Random Forest to build model for the classification of reviews.\n",
    "# Also calculating the cross validation score.\n",
    "\n",
    "from sklearn.ensemble import RandomForestClassifier\n",
    "from sklearn.model_selection import cross_val_score\n",
    "\n",
    "forest = RandomForestClassifier(n_estimators=10, n_jobs=4, random_state=42)\n",
    "\n",
    "forest = forest.fit(X_train, y_train)\n",
    "\n",
    "print(forest)\n",
    "\n",
    "score = np.mean(cross_val_score(forest, data_features, labels, cv=10))\n",
    "print(score) \n",
    "score1 = scorerecord(\"countvector with stopwords removed\", score)\n",
    "scorelist.append([score1.mode, score1.score])"
   ]
  },
  {
   "cell_type": "code",
   "execution_count": 144,
   "metadata": {
    "executionInfo": {
     "elapsed": 54527,
     "status": "ok",
     "timestamp": 1615548521326,
     "user": {
      "displayName": "Devendra AIML",
      "photoUrl": "https://lh3.googleusercontent.com/a-/AOh14GicVKKjyBT44aiJquujgsPF_1ie3gS1ek0kL5F9=s64",
      "userId": "02353457686168716095"
     },
     "user_tz": 0
    },
    "id": "zuwujDwkZIW7"
   },
   "outputs": [],
   "source": [
    "# Predict the result for test data using the model built above.\n",
    "\n",
    "result = forest.predict(X_test)"
   ]
  },
  {
   "cell_type": "code",
   "execution_count": 145,
   "metadata": {
    "colab": {
     "base_uri": "https://localhost:8080/",
     "height": 501
    },
    "executionInfo": {
     "elapsed": 55006,
     "status": "ok",
     "timestamp": 1615548521813,
     "user": {
      "displayName": "Devendra AIML",
      "photoUrl": "https://lh3.googleusercontent.com/a-/AOh14GicVKKjyBT44aiJquujgsPF_1ie3gS1ek0kL5F9=s64",
      "userId": "02353457686168716095"
     },
     "user_tz": 0
    },
    "id": "vLRfUCOlaaHH",
    "outputId": "d54ad2c6-b985-4607-bc78-02adfe6faca9"
   },
   "outputs": [
    {
     "name": "stdout",
     "output_type": "stream",
     "text": [
      "[[2505  223   86]\n",
      " [ 394  410   80]\n",
      " [ 172  111  411]]\n"
     ]
    },
    {
     "data": {
      "text/plain": [
       "<matplotlib.axes._subplots.AxesSubplot at 0x7fa431d07410>"
      ]
     },
     "execution_count": 145,
     "metadata": {
      "tags": []
     },
     "output_type": "execute_result"
    },
    {
     "data": {
      "image/png": "[encoded data removed]",
      "text/plain": [
       "<Figure size 720x504 with 2 Axes>"
      ]
     },
     "metadata": {
      "needs_background": "light",
      "tags": []
     },
     "output_type": "display_data"
    }
   ],
   "source": [
    "# Print and plot Confusion matirx to get an idea of how the distribution of the prediction is, among all the classes.\n",
    "\n",
    "import matplotlib.pyplot as plt\n",
    "import seaborn as sns\n",
    "from sklearn.metrics import confusion_matrix\n",
    "\n",
    "conf_mat = confusion_matrix(y_test, result)\n",
    "\n",
    "print(conf_mat)\n",
    "\n",
    "df_cm = pd.DataFrame(conf_mat, index = [i for i in \"123\"],\n",
    "                  columns = [i for i in \"123\"])\n",
    "plt.figure(figsize = (10,7))\n",
    "sns.heatmap(df_cm, annot=True, fmt='g')"
   ]
  },
  {
   "cell_type": "markdown",
   "metadata": {
    "id": "DbuAbC9OdiR2"
   },
   "source": [
    "# CM is consistent with accuracy but note how class 2 (neutral) has been misclassfied with only 410 out of 884 predicted correctly. So accuracy is very poor if you only look at Neutral but since this class does not dominate the distribution, overall accurcy remains good"
   ]
  },
  {
   "cell_type": "markdown",
   "metadata": {
    "id": "oHSrqaoZvX17"
   },
   "source": [
    "#Now run with stopwords not removed"
   ]
  },
  {
   "cell_type": "code",
   "execution_count": 146,
   "metadata": {
    "colab": {
     "base_uri": "https://localhost:8080/"
    },
    "executionInfo": {
     "elapsed": 80700,
     "status": "ok",
     "timestamp": 1615548547515,
     "user": {
      "displayName": "Devendra AIML",
      "photoUrl": "https://lh3.googleusercontent.com/a-/AOh14GicVKKjyBT44aiJquujgsPF_1ie3gS1ek0kL5F9=s64",
      "userId": "02353457686168716095"
     },
     "user_tz": 0
    },
    "id": "fVhvJ4fMSMrO",
    "outputId": "ecd5235d-c25d-4631-9edc-b0c1fa4d40b3"
   },
   "outputs": [
    {
     "name": "stdout",
     "output_type": "stream",
     "text": [
      "RandomForestClassifier(bootstrap=True, ccp_alpha=0.0, class_weight=None,\n",
      "                       criterion='gini', max_depth=None, max_features='auto',\n",
      "                       max_leaf_nodes=None, max_samples=None,\n",
      "                       min_impurity_decrease=0.0, min_impurity_split=None,\n",
      "                       min_samples_leaf=1, min_samples_split=2,\n",
      "                       min_weight_fraction_leaf=0.0, n_estimators=10, n_jobs=4,\n",
      "                       oob_score=False, random_state=42, verbose=0,\n",
      "                       warm_start=False)\n",
      "0.721379781420765\n"
     ]
    }
   ],
   "source": [
    "forest = RandomForestClassifier(n_estimators=10, n_jobs=4, random_state=42)\n",
    "\n",
    "forest = forest.fit(X_train2, y_train2)\n",
    "\n",
    "print(forest)\n",
    "\n",
    "score = np.mean(cross_val_score(forest, data_features2, labels, cv=10))\n",
    "print(score)\n",
    "score2 = scorerecord(\"countvector with stopwords not removed\", score)\n",
    "scorelist.append([score2.mode, score2.score])"
   ]
  },
  {
   "cell_type": "code",
   "execution_count": 147,
   "metadata": {
    "colab": {
     "base_uri": "https://localhost:8080/",
     "height": 497
    },
    "executionInfo": {
     "elapsed": 80958,
     "status": "ok",
     "timestamp": 1615548547781,
     "user": {
      "displayName": "Devendra AIML",
      "photoUrl": "https://lh3.googleusercontent.com/a-/AOh14GicVKKjyBT44aiJquujgsPF_1ie3gS1ek0kL5F9=s64",
      "userId": "02353457686168716095"
     },
     "user_tz": 0
    },
    "id": "eH3QMIxeSOaq",
    "outputId": "2f8096f6-8c87-4728-c400-d503e7138d2e"
   },
   "outputs": [
    {
     "name": "stdout",
     "output_type": "stream",
     "text": [
      "[[2611  143   60]\n",
      " [ 468  369   47]\n",
      " [ 257   93  344]]\n"
     ]
    },
    {
     "data": {
      "text/plain": [
       "<matplotlib.axes._subplots.AxesSubplot at 0x7fa431ae1f90>"
      ]
     },
     "execution_count": 147,
     "metadata": {
      "tags": []
     },
     "output_type": "execute_result"
    },
    {
     "data": {
      "image/png": "[encoded data removed]",
      "text/plain": [
       "<Figure size 720x504 with 2 Axes>"
      ]
     },
     "metadata": {
      "needs_background": "light",
      "tags": []
     },
     "output_type": "display_data"
    }
   ],
   "source": [
    "result = forest.predict(X_test2)\n",
    "# Print and plot Confusion matirx to get an idea of how the distribution of the prediction is, among all the classes.\n",
    "\n",
    "import matplotlib.pyplot as plt\n",
    "import seaborn as sns\n",
    "from sklearn.metrics import confusion_matrix\n",
    "\n",
    "conf_mat = confusion_matrix(y_test2, result)\n",
    "\n",
    "print(conf_mat)\n",
    "\n",
    "df_cm = pd.DataFrame(conf_mat, index = [i for i in \"123\"],\n",
    "                  columns = [i for i in \"123\"])\n",
    "plt.figure(figsize = (10,7))\n",
    "sns.heatmap(df_cm, annot=True, fmt='g')"
   ]
  },
  {
   "cell_type": "markdown",
   "metadata": {
    "id": "yZ2ABp-eHu4G"
   },
   "source": [
    "## Overall accuracy has improved but again class 2 is poorly predicted with only 369 out of 884 predicted correctly. Also class 3 (postive sentiment) accuracy is poor with only 344 out of 694 predicted correctly. But class 1 accuracy has improved significantly improving overall score"
   ]
  },
  {
   "cell_type": "markdown",
   "metadata": {
    "id": "7UmQktIcvkNQ"
   },
   "source": [
    "# Use TFID with stopwords removed and not removed"
   ]
  },
  {
   "cell_type": "code",
   "execution_count": 148,
   "metadata": {
    "executionInfo": {
     "elapsed": 81602,
     "status": "ok",
     "timestamp": 1615548548431,
     "user": {
      "displayName": "Devendra AIML",
      "photoUrl": "https://lh3.googleusercontent.com/a-/AOh14GicVKKjyBT44aiJquujgsPF_1ie3gS1ek0kL5F9=s64",
      "userId": "02353457686168716095"
     },
     "user_tz": 0
    },
    "id": "JyWqFm4Bu8gX"
   },
   "outputs": [],
   "source": [
    "# Using TfidfVectorizer to convert text data to numbers.\n",
    "\n",
    "from sklearn.feature_extraction.text import TfidfVectorizer\n",
    "\n",
    "vectorizer = TfidfVectorizer(max_features=2000)\n",
    "data_features = vectorizer.fit_transform(data['text'])\n",
    "data_features2 = vectorizer.fit_transform(data2['text'])\n",
    "\n",
    "#print(data_features)"
   ]
  },
  {
   "cell_type": "code",
   "execution_count": 149,
   "metadata": {
    "colab": {
     "base_uri": "https://localhost:8080/"
    },
    "executionInfo": {
     "elapsed": 81597,
     "status": "ok",
     "timestamp": 1615548548432,
     "user": {
      "displayName": "Devendra AIML",
      "photoUrl": "https://lh3.googleusercontent.com/a-/AOh14GicVKKjyBT44aiJquujgsPF_1ie3gS1ek0kL5F9=s64",
      "userId": "02353457686168716095"
     },
     "user_tz": 0
    },
    "id": "_FoPBQbXLTuv",
    "outputId": "74b58df3-ed89-40a8-d62d-0e74ee632af7"
   },
   "outputs": [
    {
     "data": {
      "text/plain": [
       "(14640, 2000)"
      ]
     },
     "execution_count": 149,
     "metadata": {
      "tags": []
     },
     "output_type": "execute_result"
    }
   ],
   "source": [
    "data_features = data_features.toarray()\n",
    "\n",
    "data_features.shape"
   ]
  },
  {
   "cell_type": "code",
   "execution_count": 150,
   "metadata": {
    "colab": {
     "base_uri": "https://localhost:8080/"
    },
    "executionInfo": {
     "elapsed": 81590,
     "status": "ok",
     "timestamp": 1615548548432,
     "user": {
      "displayName": "Devendra AIML",
      "photoUrl": "https://lh3.googleusercontent.com/a-/AOh14GicVKKjyBT44aiJquujgsPF_1ie3gS1ek0kL5F9=s64",
      "userId": "02353457686168716095"
     },
     "user_tz": 0
    },
    "id": "OzYNb5jRTN1l",
    "outputId": "2f6fcf5a-9b4e-48aa-d357-55a2a3d3838a"
   },
   "outputs": [
    {
     "data": {
      "text/plain": [
       "(14640, 2000)"
      ]
     },
     "execution_count": 150,
     "metadata": {
      "tags": []
     },
     "output_type": "execute_result"
    }
   ],
   "source": [
    "data_features2 = data_features2.toarray() #for stopwords not removed\n",
    "\n",
    "data_features2.shape"
   ]
  },
  {
   "cell_type": "markdown",
   "metadata": {
    "id": "kZATFw6kLDdq"
   },
   "source": [
    "## We have to do train/test split again as we have changed the vectorizer"
   ]
  },
  {
   "cell_type": "code",
   "execution_count": 151,
   "metadata": {
    "executionInfo": {
     "elapsed": 81912,
     "status": "ok",
     "timestamp": 1615548548760,
     "user": {
      "displayName": "Devendra AIML",
      "photoUrl": "https://lh3.googleusercontent.com/a-/AOh14GicVKKjyBT44aiJquujgsPF_1ie3gS1ek0kL5F9=s64",
      "userId": "02353457686168716095"
     },
     "user_tz": 0
    },
    "id": "FKEQM4sFFt3n"
   },
   "outputs": [],
   "source": [
    "# Split data into training and testing set.\n",
    "\n",
    "from sklearn.model_selection import train_test_split\n",
    "\n",
    "X_train, X_test, y_train, y_test = train_test_split(data_features, labels, test_size=0.3, random_state=42)\n",
    "X_train2, X_test2, y_train2, y_test2 = train_test_split(data_features2, labels, test_size=0.3, random_state=42)"
   ]
  },
  {
   "cell_type": "code",
   "execution_count": 152,
   "metadata": {
    "colab": {
     "base_uri": "https://localhost:8080/"
    },
    "executionInfo": {
     "elapsed": 81906,
     "status": "ok",
     "timestamp": 1615548548760,
     "user": {
      "displayName": "Devendra AIML",
      "photoUrl": "https://lh3.googleusercontent.com/a-/AOh14GicVKKjyBT44aiJquujgsPF_1ie3gS1ek0kL5F9=s64",
      "userId": "02353457686168716095"
     },
     "user_tz": 0
    },
    "id": "Bw6d0Rdcue57",
    "outputId": "72687d49-ff38-4d47-b9de-8631b4e99de2"
   },
   "outputs": [
    {
     "name": "stdout",
     "output_type": "stream",
     "text": [
      "(array([1, 2, 3]), array([2814,  884,  694]))\n",
      "(array([1, 2, 3]), array([2814,  884,  694]))\n"
     ]
    }
   ],
   "source": [
    "print(np.unique(y_test, return_counts=True))\n",
    "print(np.unique(y_test2, return_counts=True))"
   ]
  },
  {
   "cell_type": "code",
   "execution_count": 153,
   "metadata": {
    "colab": {
     "base_uri": "https://localhost:8080/"
    },
    "executionInfo": {
     "elapsed": 123880,
     "status": "ok",
     "timestamp": 1615548590741,
     "user": {
      "displayName": "Devendra AIML",
      "photoUrl": "https://lh3.googleusercontent.com/a-/AOh14GicVKKjyBT44aiJquujgsPF_1ie3gS1ek0kL5F9=s64",
      "userId": "02353457686168716095"
     },
     "user_tz": 0
    },
    "id": "7223wy58vjJn",
    "outputId": "c9de85d1-fec0-4a3f-b16e-5294aeae12bb"
   },
   "outputs": [
    {
     "name": "stdout",
     "output_type": "stream",
     "text": [
      "RandomForestClassifier(bootstrap=True, ccp_alpha=0.0, class_weight=None,\n",
      "                       criterion='gini', max_depth=None, max_features='auto',\n",
      "                       max_leaf_nodes=None, max_samples=None,\n",
      "                       min_impurity_decrease=0.0, min_impurity_split=None,\n",
      "                       min_samples_leaf=1, min_samples_split=2,\n",
      "                       min_weight_fraction_leaf=0.0, n_estimators=10, n_jobs=4,\n",
      "                       oob_score=False, random_state=42, verbose=0,\n",
      "                       warm_start=False)\n",
      "0.7150956284153006\n"
     ]
    }
   ],
   "source": [
    "# Using Random Forest to build model for the classification of reviews.\n",
    "# Also calculating the cross validation score.\n",
    "\n",
    "from sklearn.ensemble import RandomForestClassifier\n",
    "from sklearn.model_selection import cross_val_score\n",
    "\n",
    "import numpy as np\n",
    "\n",
    "forest = RandomForestClassifier(n_estimators=10, n_jobs=4, random_state=42)\n",
    "\n",
    "forest = forest.fit(X_train, y_train)\n",
    "\n",
    "print(forest)\n",
    "\n",
    "score = np.mean(cross_val_score(forest, data_features, labels, cv=10))\n",
    "print(score)\n",
    "score3 = scorerecord(\"TFID with stopwords removed\", score)\n",
    "scorelist.append([score3.mode, score3.score])"
   ]
  },
  {
   "cell_type": "code",
   "execution_count": 154,
   "metadata": {
    "executionInfo": {
     "elapsed": 123875,
     "status": "ok",
     "timestamp": 1615548590742,
     "user": {
      "displayName": "Devendra AIML",
      "photoUrl": "https://lh3.googleusercontent.com/a-/AOh14GicVKKjyBT44aiJquujgsPF_1ie3gS1ek0kL5F9=s64",
      "userId": "02353457686168716095"
     },
     "user_tz": 0
    },
    "id": "vxMaBRnLvl_A"
   },
   "outputs": [],
   "source": [
    "result = forest.predict(X_test)"
   ]
  },
  {
   "cell_type": "code",
   "execution_count": 155,
   "metadata": {
    "colab": {
     "base_uri": "https://localhost:8080/",
     "height": 445
    },
    "executionInfo": {
     "elapsed": 124308,
     "status": "ok",
     "timestamp": 1615548591181,
     "user": {
      "displayName": "Devendra AIML",
      "photoUrl": "https://lh3.googleusercontent.com/a-/AOh14GicVKKjyBT44aiJquujgsPF_1ie3gS1ek0kL5F9=s64",
      "userId": "02353457686168716095"
     },
     "user_tz": 0
    },
    "id": "qFkEFqU3vnbw",
    "outputId": "cb4fb778-2342-48fb-9d23-f7ec551de588"
   },
   "outputs": [
    {
     "data": {
      "text/plain": [
       "<matplotlib.axes._subplots.AxesSubplot at 0x7fa432748710>"
      ]
     },
     "execution_count": 155,
     "metadata": {
      "tags": []
     },
     "output_type": "execute_result"
    },
    {
     "data": {
      "image/png": "[encoded data removed]",
      "text/plain": [
       "<Figure size 720x504 with 2 Axes>"
      ]
     },
     "metadata": {
      "needs_background": "light",
      "tags": []
     },
     "output_type": "display_data"
    }
   ],
   "source": [
    "import matplotlib.pyplot as plt\n",
    "import seaborn as sns\n",
    "from sklearn.metrics import confusion_matrix\n",
    "\n",
    "conf_mat = confusion_matrix(y_test, result)\n",
    "\n",
    "df_cm = pd.DataFrame(conf_mat, index = [i for i in \"123\"],\n",
    "                  columns = [i for i in \"123\"])\n",
    "plt.figure(figsize = (10,7))\n",
    "sns.heatmap(df_cm, annot=True, fmt='g')"
   ]
  },
  {
   "cell_type": "markdown",
   "metadata": {
    "id": "b49wfaOVI3IF"
   },
   "source": [
    "## Overall accuracy good but class 2 accuracy very poor with only 347 out of 884 predicted correctly"
   ]
  },
  {
   "cell_type": "code",
   "execution_count": 156,
   "metadata": {
    "colab": {
     "base_uri": "https://localhost:8080/"
    },
    "executionInfo": {
     "elapsed": 154677,
     "status": "ok",
     "timestamp": 1615548621558,
     "user": {
      "displayName": "Devendra AIML",
      "photoUrl": "https://lh3.googleusercontent.com/a-/AOh14GicVKKjyBT44aiJquujgsPF_1ie3gS1ek0kL5F9=s64",
      "userId": "02353457686168716095"
     },
     "user_tz": 0
    },
    "id": "IvDzpKyPTvHO",
    "outputId": "86cc5eaf-718f-40f1-9da6-20dac6b051b8"
   },
   "outputs": [
    {
     "name": "stdout",
     "output_type": "stream",
     "text": [
      "RandomForestClassifier(bootstrap=True, ccp_alpha=0.0, class_weight=None,\n",
      "                       criterion='gini', max_depth=None, max_features='auto',\n",
      "                       max_leaf_nodes=None, max_samples=None,\n",
      "                       min_impurity_decrease=0.0, min_impurity_split=None,\n",
      "                       min_samples_leaf=1, min_samples_split=2,\n",
      "                       min_weight_fraction_leaf=0.0, n_estimators=10, n_jobs=4,\n",
      "                       oob_score=False, random_state=42, verbose=0,\n",
      "                       warm_start=False)\n",
      "0.7086065573770491\n"
     ]
    }
   ],
   "source": [
    "forest = RandomForestClassifier(n_estimators=10, n_jobs=4, random_state=42)\n",
    "\n",
    "forest = forest.fit(X_train2, y_train2) #for stopwords not removed\n",
    "\n",
    "print(forest)\n",
    "\n",
    "score = np.mean(cross_val_score(forest, data_features2, labels, cv=10))\n",
    "print(score)\n",
    "score4 = scorerecord(\"TFID with stopwords not removed\", score)\n",
    "scorelist.append([score4.mode, score4.score])"
   ]
  },
  {
   "cell_type": "code",
   "execution_count": 157,
   "metadata": {
    "colab": {
     "base_uri": "https://localhost:8080/",
     "height": 497
    },
    "executionInfo": {
     "elapsed": 154903,
     "status": "ok",
     "timestamp": 1615548621790,
     "user": {
      "displayName": "Devendra AIML",
      "photoUrl": "https://lh3.googleusercontent.com/a-/AOh14GicVKKjyBT44aiJquujgsPF_1ie3gS1ek0kL5F9=s64",
      "userId": "02353457686168716095"
     },
     "user_tz": 0
    },
    "id": "ho9r281uTwHA",
    "outputId": "17106455-8ed7-4638-977e-57de4f19d0be"
   },
   "outputs": [
    {
     "name": "stdout",
     "output_type": "stream",
     "text": [
      "[[2660  113   41]\n",
      " [ 491  356   37]\n",
      " [ 299   97  298]]\n"
     ]
    },
    {
     "data": {
      "text/plain": [
       "<matplotlib.axes._subplots.AxesSubplot at 0x7fa43e728b90>"
      ]
     },
     "execution_count": 157,
     "metadata": {
      "tags": []
     },
     "output_type": "execute_result"
    },
    {
     "data": {
      "image/png": "[encoded data removed]",
      "text/plain": [
       "<Figure size 720x504 with 2 Axes>"
      ]
     },
     "metadata": {
      "needs_background": "light",
      "tags": []
     },
     "output_type": "display_data"
    }
   ],
   "source": [
    "result = forest.predict(X_test2)\n",
    "# Print and plot Confusion matirx to get an idea of how the distribution of the prediction is, among all the classes.\n",
    "\n",
    "import matplotlib.pyplot as plt\n",
    "import seaborn as sns\n",
    "from sklearn.metrics import confusion_matrix\n",
    "\n",
    "conf_mat = confusion_matrix(y_test2, result)\n",
    "\n",
    "print(conf_mat)\n",
    "\n",
    "df_cm = pd.DataFrame(conf_mat, index = [i for i in \"123\"],\n",
    "                  columns = [i for i in \"123\"])\n",
    "plt.figure(figsize = (10,7))\n",
    "sns.heatmap(df_cm, annot=True, fmt='g')"
   ]
  },
  {
   "cell_type": "markdown",
   "metadata": {
    "id": "z0cyHN5KJQfW"
   },
   "source": [
    "## Overall accuracy slightly decreased and both class 2 and class 3 accuracies are very poor"
   ]
  },
  {
   "cell_type": "code",
   "execution_count": 158,
   "metadata": {
    "colab": {
     "base_uri": "https://localhost:8080/"
    },
    "executionInfo": {
     "elapsed": 154897,
     "status": "ok",
     "timestamp": 1615548621791,
     "user": {
      "displayName": "Devendra AIML",
      "photoUrl": "https://lh3.googleusercontent.com/a-/AOh14GicVKKjyBT44aiJquujgsPF_1ie3gS1ek0kL5F9=s64",
      "userId": "02353457686168716095"
     },
     "user_tz": 0
    },
    "id": "enza7gAYBeMS",
    "outputId": "a6e2e493-1fa6-425b-92b1-73c097a36697"
   },
   "outputs": [
    {
     "name": "stdout",
     "output_type": "stream",
     "text": [
      "['countvector with stopwords removed', 0.7178961748633881]\n",
      "['countvector with stopwords not removed', 0.721379781420765]\n",
      "['TFID with stopwords removed', 0.7150956284153006]\n",
      "['TFID with stopwords not removed', 0.7086065573770491]\n"
     ]
    }
   ],
   "source": [
    "for i in range(0, len(scorelist)):\n",
    "  print(scorelist[i])"
   ]
  },
  {
   "cell_type": "markdown",
   "metadata": {
    "id": "LwxfFdwhc-9o"
   },
   "source": [
    "Summary:\n",
    "\n",
    "- We used dataset which has reviews in text format and their sentiment score on the scale of 1 to 3.\n",
    "- The goal was to build a model for text-classification.\n",
    "- We Pre-processed the data using variuos techniques and libraries.\n",
    "- The pre-precessed data is converted to numbers, so that we can feed the data in the model.\n",
    "- After building the classification model, we predicted the result for the test data.\n",
    "- After that we saw that using the above techniques, our model performed good in perspective of how the text classification models perform (over 70% accuracy is good)\n",
    "- However, we saw that some of the classes can be badly represented. In almost every case we saw that accuracy was poor in predicting 'Neutral' sentiment and with stopwords not removed, accuracy of class 3 (postive sentiment) also went down. The models were fairly successful in predicting negative sentiment, which is the dominant class\n",
    "- One more way to increase accuracy is to use different variations of Pre-processing techniques and try max features, other hyper parameters, using gridsearch etc. We have seen that removing or not removing stopwords is having some impact. We got the max accuracy with countvector and stopwords not removed. However this is very much dataset dependent and I would recommend running both countvector and tfid with both stopwords removed and not removed and check the scores. We cannot assume that any single technique here would always give best score."
   ]
  },
  {
   "cell_type": "code",
   "execution_count": 158,
   "metadata": {
    "executionInfo": {
     "elapsed": 154891,
     "status": "ok",
     "timestamp": 1615548621791,
     "user": {
      "displayName": "Devendra AIML",
      "photoUrl": "https://lh3.googleusercontent.com/a-/AOh14GicVKKjyBT44aiJquujgsPF_1ie3gS1ek0kL5F9=s64",
      "userId": "02353457686168716095"
     },
     "user_tz": 0
    },
    "id": "mNKwpQ3Rv6u4"
   },
   "outputs": [],
   "source": []
  }
 ],
 "metadata": {
  "colab": {
   "collapsed_sections": [],
   "name": "Devendra_project_NLP.ipynb",
   "provenance": []
  },
  "kernelspec": {
   "display_name": "Python 3",
   "language": "python",
   "name": "python3"
  },
  "language_info": {
   "codemirror_mode": {
    "name": "ipython",
    "version": 3
   },
   "file_extension": ".py",
   "mimetype": "text/x-python",
   "name": "python",
   "nbconvert_exporter": "python",
   "pygments_lexer": "ipython3",
   "version": "3.8.5"
  }
 },
 "nbformat": 4,
 "nbformat_minor": 1
}
